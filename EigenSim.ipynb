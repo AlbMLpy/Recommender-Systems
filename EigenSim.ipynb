{
 "cells": [
  {
   "cell_type": "code",
   "execution_count": 1,
   "metadata": {},
   "outputs": [],
   "source": [
    "import numpy as np\n",
    "import pandas as pd\n",
    "from scipy.sparse import csr_matrix\n",
    "\n",
    "from tqdm import tqdm as track\n",
    "\n",
    "from dataprep import split_holdout, sample_unseen_interactions\n",
    "from utils import topk_idx, evaluate\n",
    "from SGDEigenSim import SGDEigenSim \n",
    "from RecWalk.RecWalk import RecWalk  "
   ]
  },
  {
   "cell_type": "markdown",
   "metadata": {},
   "source": [
    "### Global settings"
   ]
  },
  {
   "cell_type": "code",
   "execution_count": 2,
   "metadata": {},
   "outputs": [],
   "source": [
    "# randomization control\n",
    "seed = 0\n",
    "\n",
    "# to sample unseen items for holdout\n",
    "holdout_seed = 42 \n",
    "\n",
    "# evaluation settings\n",
    "target_metric = 'hr'\n",
    "\n",
    "# initialize random state\n",
    "rs = np.random.RandomState(seed)"
   ]
  },
  {
   "cell_type": "markdown",
   "metadata": {},
   "source": [
    "### Load data -> Yahoo"
   ]
  },
  {
   "cell_type": "code",
   "execution_count": 3,
   "metadata": {},
   "outputs": [
    {
     "data": {
      "text/html": [
       "<div>\n",
       "<style scoped>\n",
       "    .dataframe tbody tr th:only-of-type {\n",
       "        vertical-align: middle;\n",
       "    }\n",
       "\n",
       "    .dataframe tbody tr th {\n",
       "        vertical-align: top;\n",
       "    }\n",
       "\n",
       "    .dataframe thead th {\n",
       "        text-align: right;\n",
       "    }\n",
       "</style>\n",
       "<table border=\"1\" class=\"dataframe\">\n",
       "  <thead>\n",
       "    <tr style=\"text-align: right;\">\n",
       "      <th></th>\n",
       "      <th>userid</th>\n",
       "      <th>itemid</th>\n",
       "      <th>is_holdout</th>\n",
       "    </tr>\n",
       "  </thead>\n",
       "  <tbody>\n",
       "    <tr>\n",
       "      <td>0</td>\n",
       "      <td>346</td>\n",
       "      <td>1</td>\n",
       "      <td>False</td>\n",
       "    </tr>\n",
       "    <tr>\n",
       "      <td>1</td>\n",
       "      <td>385</td>\n",
       "      <td>1</td>\n",
       "      <td>False</td>\n",
       "    </tr>\n",
       "    <tr>\n",
       "      <td>2</td>\n",
       "      <td>517</td>\n",
       "      <td>1</td>\n",
       "      <td>False</td>\n",
       "    </tr>\n",
       "    <tr>\n",
       "      <td>3</td>\n",
       "      <td>538</td>\n",
       "      <td>1</td>\n",
       "      <td>False</td>\n",
       "    </tr>\n",
       "    <tr>\n",
       "      <td>4</td>\n",
       "      <td>651</td>\n",
       "      <td>1</td>\n",
       "      <td>False</td>\n",
       "    </tr>\n",
       "  </tbody>\n",
       "</table>\n",
       "</div>"
      ],
      "text/plain": [
       "   userid  itemid  is_holdout\n",
       "0     346       1       False\n",
       "1     385       1       False\n",
       "2     517       1       False\n",
       "3     538       1       False\n",
       "4     651       1       False"
      ]
     },
     "execution_count": 3,
     "metadata": {},
     "output_type": "execute_result"
    }
   ],
   "source": [
    "full_data = pd.read_csv('./data/raw/yahoo_data_full.gz')\n",
    "full_data.head(5)"
   ]
  },
  {
   "cell_type": "markdown",
   "metadata": {},
   "source": [
    "### Divide data into train and test"
   ]
  },
  {
   "cell_type": "code",
   "execution_count": 4,
   "metadata": {},
   "outputs": [],
   "source": [
    "# train test split\n",
    "train, holdout = split_holdout( \n",
    "    full_data,\n",
    "    sample_max_rated = True,\n",
    "    feedback = 'is_holdout',\n",
    "    random_state = rs,\n",
    ")\n",
    "\n",
    "# check for problems\n",
    "assert not train.is_holdout.any()\n",
    "assert holdout.is_holdout.all()"
   ]
  },
  {
   "cell_type": "markdown",
   "metadata": {},
   "source": [
    "### Turn train data into CSR format"
   ]
  },
  {
   "cell_type": "code",
   "execution_count": 5,
   "metadata": {},
   "outputs": [
    {
     "name": "stdout",
     "output_type": "stream",
     "text": [
      "Users: 7307;\n",
      "Items: 3312;\n",
      "NNZ entries: 397438;\n",
      "Density: 1.642253%\n"
     ]
    }
   ],
   "source": [
    "# encode users and items to [0, N] interval with no missing indices\n",
    "useridx, all_users = pd.factorize(train.userid)\n",
    "itemidx, all_items = pd.factorize(train.itemid)\n",
    "\n",
    "# for efficient storage and some computations\n",
    "rating_matrix = csr_matrix( \n",
    "    (\n",
    "        np.ones(train.shape[0], dtype='f8'),\n",
    "        (useridx, itemidx),\n",
    "    )\n",
    ")\n",
    "\n",
    "print(\n",
    "    \"Users: {};\\nItems: {};\\nNNZ entries: {};\\nDensity: {:%}\"\n",
    "    .format(\n",
    "        *rating_matrix.shape,\n",
    "        rating_matrix.nnz,\n",
    "        rating_matrix.nnz / np.prod(rating_matrix.shape)\n",
    "    )\n",
    ")"
   ]
  },
  {
   "cell_type": "markdown",
   "metadata": {},
   "source": [
    "### Learn or Load W model"
   ]
  },
  {
   "cell_type": "code",
   "execution_count": 6,
   "metadata": {},
   "outputs": [
    {
     "name": "stdout",
     "output_type": "stream",
     "text": [
      "Begin calculations:\n",
      "\n",
      "Iteration: 5, Error: 0.0050698384749079065, Time for 5 steps: 182.00896573066711\n",
      "\n",
      "\n",
      "Iteration: 10, Error: 0.005069625440880059, Time for 5 steps: 187.5604841709137\n",
      "\n",
      "\n",
      "Iteration: 15, Error: 0.005068752556862748, Time for 5 steps: 187.55338048934937\n",
      "\n",
      "\n",
      "Iteration: 20, Error: 0.005068114354401509, Time for 5 steps: 188.68026542663574\n",
      "\n",
      "\n",
      "Ended with iterations\n",
      "\n",
      "Got error = 0.005068114354401509;\n",
      "\n"
     ]
    }
   ],
   "source": [
    "rs = 10\n",
    "model = SGDEigenSim(rating_matrix, rs)\n",
    "model.fit(alpha=0.9,\n",
    "          batch_size=10,\n",
    "          error=1e-4,\n",
    "          num_iter=20,\n",
    "          show_step=(True, 5))"
   ]
  },
  {
   "cell_type": "code",
   "execution_count": 7,
   "metadata": {},
   "outputs": [
    {
     "name": "stdout",
     "output_type": "stream",
     "text": [
      "Begin calculations:\n",
      "\n",
      "Iteration: 5, Error: 0.005067691880700982, Time for 5 steps: 83.42635440826416\n",
      "\n",
      "\n",
      "Iteration: 10, Error: 0.005067255069747381, Time for 5 steps: 83.49697422981262\n",
      "\n",
      "\n",
      "Iteration: 15, Error: 0.005067134623597058, Time for 5 steps: 81.67678785324097\n",
      "\n",
      "\n",
      "Iteration: 20, Error: 0.005066973677899771, Time for 5 steps: 83.38777685165405\n",
      "\n",
      "\n",
      "Iteration: 25, Error: 0.005066593802935189, Time for 5 steps: 83.408926486969\n",
      "\n",
      "\n",
      "Iteration: 30, Error: 0.005066514197211047, Time for 5 steps: 84.71939206123352\n",
      "\n",
      "\n",
      "Ended with iterations\n",
      "\n",
      "Got error = 0.005066514197211047;\n",
      "\n"
     ]
    }
   ],
   "source": [
    "model.fit(alpha=0.9,\n",
    "          batch_size=5,\n",
    "          error=1e-4,\n",
    "          num_iter=30,\n",
    "          show_step=(True, 5))"
   ]
  },
  {
   "cell_type": "code",
   "execution_count": 8,
   "metadata": {},
   "outputs": [
    {
     "name": "stdout",
     "output_type": "stream",
     "text": [
      "Begin calculations:\n",
      "\n",
      "Iteration: 5, Error: 0.005066079372847488, Time for 5 steps: 607.5131783485413\n",
      "\n",
      "\n",
      "Iteration: 10, Error: 0.005065823931222169, Time for 5 steps: 607.2258846759796\n",
      "\n",
      "\n",
      "Ended with iterations\n",
      "\n",
      "Got error = 0.005065823931222169;\n",
      "\n"
     ]
    }
   ],
   "source": [
    "model.fit(alpha=0.9,\n",
    "          batch_size=20,\n",
    "          error=1e-4,\n",
    "          num_iter=10,\n",
    "          show_step=(True, 5))"
   ]
  },
  {
   "cell_type": "code",
   "execution_count": 9,
   "metadata": {},
   "outputs": [
    {
     "name": "stdout",
     "output_type": "stream",
     "text": [
      "Density of W: 100.000000%\n",
      "Number of elements less than 0 in W: 5490246\n",
      "Maximal diagonal element of the W:   0.6975513777117384\n",
      "Minimal diagonal element of the W:   0.2915987101704293\n"
     ]
    }
   ],
   "source": [
    "W = csr_matrix(model.get_model())\n",
    "\n",
    "#Density of distance matrix W, diagonal and other elements\n",
    "print(f\"Density of W: {W.nnz / np.prod(W.shape):%}\")\n",
    "print(f\"Number of elements less than 0 in W: {(W.data<0).sum()}\")\n",
    "print(f\"Maximal diagonal element of the W:   {W.diagonal().max()}\")\n",
    "print(f\"Minimal diagonal element of the W:   {W.diagonal().min()}\")"
   ]
  },
  {
   "cell_type": "markdown",
   "metadata": {},
   "source": [
    "### Define RecWalk Model"
   ]
  },
  {
   "cell_type": "code",
   "execution_count": 10,
   "metadata": {},
   "outputs": [
    {
     "name": "stdout",
     "output_type": "stream",
     "text": [
      "Density of P:      10.439160%\n"
     ]
    }
   ],
   "source": [
    "# RecWalk P matrix with W model:\n",
    "transition_matrix = RecWalk(W, rating_matrix).get_model()\n",
    "print(f\"Density of P:\\\n",
    "      {transition_matrix.nnz / np.prod(transition_matrix.shape) :%}\")"
   ]
  },
  {
   "cell_type": "markdown",
   "metadata": {},
   "source": [
    "### Prepare for evaluation step"
   ]
  },
  {
   "cell_type": "code",
   "execution_count": 11,
   "metadata": {},
   "outputs": [],
   "source": [
    "# sample 999 random unseen items per user\n",
    "holdout_unseen = sample_unseen_interactions(\n",
    "    full_data,\n",
    "    train.itemid.unique(), \n",
    "    seed=holdout_seed,\n",
    ")\n",
    "\n",
    "# put holdout_unseen into 2 dim ndarray and sub 1 from everyone\n",
    "unseen_samples = np.array([\n",
    "    [all_items.get_loc(i) for i in x]\n",
    "    for x in holdout_unseen.loc[all_users]\n",
    "])\n",
    "\n",
    "# put holdout into ndarray and sub 1 from everyone\n",
    "holdout_items = (\n",
    "    holdout\n",
    "    .set_index('userid')\n",
    "    .loc[all_users, 'itemid']\n",
    "    .map(all_items.get_loc)\n",
    "    .values\n",
    ")"
   ]
  },
  {
   "cell_type": "markdown",
   "metadata": {},
   "source": [
    "### Evaluation"
   ]
  },
  {
   "cell_type": "code",
   "execution_count": 12,
   "metadata": {},
   "outputs": [
    {
     "name": "stderr",
     "output_type": "stream",
     "text": [
      "100%|██████████| 20/20 [28:59<00:00, 86.98s/it]\n"
     ]
    }
   ],
   "source": [
    "# Make a few more steps to future to capture intersactions between items:\n",
    "K = 20\n",
    "\n",
    "n_users = rating_matrix.shape[0]\n",
    "k_step_matrix = transition_matrix[:n_users, :].toarray()\n",
    "transition_matrix = transition_matrix.tocsc()\n",
    "\n",
    "metrics = []\n",
    "for k in track(range(K)): \n",
    "    k_step_matrix = transition_matrix.T.dot(k_step_matrix.T).T\n",
    "    prediction_matrix = k_step_matrix[:, n_users:]\n",
    "    metrics.append(\n",
    "        evaluate(prediction_matrix, holdout_items, unseen_samples)\n",
    "    )"
   ]
  },
  {
   "cell_type": "markdown",
   "metadata": {},
   "source": [
    "### Get graphical results"
   ]
  },
  {
   "cell_type": "code",
   "execution_count": 13,
   "metadata": {},
   "outputs": [
    {
     "data": {
      "image/png": "[encoded data removed]",
      "text/plain": [
       "<Figure size 432x288 with 2 Axes>"
      ]
     },
     "metadata": {
      "image/png": {
       "height": 261,
       "width": 414
      },
      "needs_background": "light"
     },
     "output_type": "display_data"
    }
   ],
   "source": [
    "%matplotlib inline\n",
    "%config InlineBackend.figure_format='retina'\n",
    "\n",
    "hr, arhr = zip(*metrics)\n",
    "\n",
    "ax1 = pd.Series(hr).plot(linestyle='-', marker='*', label='HR@10')\n",
    "ax2 = pd.Series(arhr).plot(secondary_y=True, linestyle='-', marker='*', label='ARHR@10')\n",
    "\n",
    "ax1.set_xlabel('K')\n",
    "ax1.xaxis.grid(True, linestyle=':')\n",
    "ax1.set_xticks(range(0, 22, 2))\n",
    "ax1.legend(loc=3)\n",
    "\n",
    "ax2.legend(loc=0);"
   ]
  },
  {
   "cell_type": "markdown",
   "metadata": {},
   "source": [
    "### Some statistics on eigenvalues"
   ]
  },
  {
   "cell_type": "code",
   "execution_count": 21,
   "metadata": {},
   "outputs": [
    {
     "name": "stdout",
     "output_type": "stream",
     "text": [
      "max = 1.0001343173759485\n",
      "\n",
      "min = 0.00028338880383233623\n",
      "\n",
      "mean = 0.4885226104907697\n",
      "\n",
      "std = 0.2904311597212879\n",
      "\n"
     ]
    }
   ],
   "source": [
    "print(f\"max = {model.get_eigenvalues().max()}\\n\")\n",
    "print(f\"min = {model.get_eigenvalues().min()}\\n\")\n",
    "print(f\"mean = {model.get_eigenvalues().mean()}\\n\")\n",
    "print(f\"std = {model.get_eigenvalues().std()}\\n\")"
   ]
  }
 ],
 "metadata": {
  "kernelspec": {
   "display_name": "Python 3",
   "language": "python",
   "name": "python3"
  },
  "language_info": {
   "codemirror_mode": {
    "name": "ipython",
    "version": 3
   },
   "file_extension": ".py",
   "mimetype": "text/x-python",
   "name": "python",
   "nbconvert_exporter": "python",
   "pygments_lexer": "ipython3",
   "version": "3.7.4"
  }
 },
 "nbformat": 4,
 "nbformat_minor": 4
}
