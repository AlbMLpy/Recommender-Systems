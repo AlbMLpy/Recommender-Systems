{
 "cells": [
  {
   "cell_type": "markdown",
   "metadata": {},
   "source": [
    "!pip install --no-cache-dir --upgrade git+https://github.com/Evfro/polara.git@develop#egg=polara  \n",
    "!pip install ipypb"
   ]
  },
  {
   "cell_type": "code",
   "execution_count": 1,
   "metadata": {},
   "outputs": [],
   "source": [
    "import numpy as np\n",
    "import pandas as pd\n",
    "\n",
    "from polara import get_movielens_data, RecommenderData, SVDModel\n",
    "from polara.recommender.models import RandomSampleEvaluationSVDMixin\n",
    "from polara.recommender.data import RandomSampleEvaluationMixin\n",
    "from polara.evaluation.pipelines import find_optimal_svd_rank\n",
    "\n",
    "try:\n",
    "    from ipypb import track\n",
    "except ImportError:\n",
    "    from tqdm.auto import tqdm as track\n",
    "    \n",
    "from dataprep import split_holdout, sample_unseen_interactions"
   ]
  },
  {
   "cell_type": "markdown",
   "metadata": {},
   "source": [
    "---\n",
    "The following setup is based on experiment description from the RecWalk paper:  \n",
    "_\"RecWalk: Nearly Uncoupled Random Walks for Top-N Recommendation\"_; Athanasios N. Nikolakopoulos, George Karypis; WSDM '19.  \n",
    "Where necessary, quotes from the original paper are provided.\n",
    "---"
   ]
  },
  {
   "cell_type": "code",
   "execution_count": 2,
   "metadata": {},
   "outputs": [],
   "source": [
    "# data config\n",
    "feedback = 'rating'\n",
    "# randomization control\n",
    "seed = 0\n",
    "holdout_seed = 42 # to sample unseen items for holdout\n",
    "# sampling settings\n",
    "sample_max_rated = True\n",
    "rating_threshold = 0 # for ratings [1, 2, 3, 4, 5]\n",
    "# evaluation setitings\n",
    "target_metric = 'hr'\n",
    "svd_ranks = range(5, 101, 5)"
   ]
  },
  {
   "cell_type": "markdown",
   "metadata": {},
   "source": [
    "Logged results (with kernel restarts):  \n",
    "```python\n",
    "seed = 0, holdout_seed = 42\n",
    "\n",
    "sample_max_rated = True, rating_threshold = 0:  \n",
    "hr=0.46564000662361316, arhr=0.23904475407207648\n",
    "```"
   ]
  },
  {
   "cell_type": "markdown",
   "metadata": {},
   "source": [
    "## Data preprocessing"
   ]
  },
  {
   "cell_type": "code",
   "execution_count": 3,
   "metadata": {},
   "outputs": [],
   "source": [
    "ml_data = (\n",
    "    get_movielens_data('D:/datasets/recsys/movielens/ml-1m.zip')\n",
    "    .query(f'{feedback:s} >= @rating_threshold')\n",
    ")"
   ]
  },
  {
   "cell_type": "markdown",
   "metadata": {},
   "source": [
    "## train-test split"
   ]
  },
  {
   "cell_type": "markdown",
   "metadata": {},
   "source": [
    "Quote:  \n",
    "`...for each user we randomly select one liked item...and we create a testset T...  \n",
    "...the per-user ‘liked’ item is randomly sampled among the highest rated items of each particular user...`"
   ]
  },
  {
   "cell_type": "markdown",
   "metadata": {},
   "source": [
    "Quote:  \n",
    "`For model selection we repeat the same procedure on the training data and we create a validation set V; and for each method considered we explore the hyperparameter space to find the modelthat yields the best performance in recommending the items in V,and then we evaluate its out-of-sample performance based on the held-out items in T`"
   ]
  },
  {
   "cell_type": "code",
   "execution_count": 4,
   "metadata": {},
   "outputs": [],
   "source": [
    "rs = np.random.RandomState(seed)\n",
    "tmp_train, holdout = split_holdout(  # test\n",
    "    ml_data,\n",
    "    sample_max_rated = sample_max_rated,\n",
    "    feedback = feedback,\n",
    "    random_state = rs\n",
    ")\n",
    "train, validation = split_holdout( # validation\n",
    "    tmp_train, # data without holdout\n",
    "    sample_max_rated = sample_max_rated,\n",
    "    feedback = feedback,\n",
    "    random_state = rs\n",
    ")"
   ]
  },
  {
   "cell_type": "raw",
   "metadata": {},
   "source": [
    "train.to_csv('train.gz', index=False)\n",
    "validation.to_csv('validation.gz', index=False)\n",
    "holdout.to_csv('holout.gz', index=False)"
   ]
  },
  {
   "cell_type": "markdown",
   "metadata": {},
   "source": [
    "Quote:  \n",
    "`During training of all competing methods we consider only binary feedback`"
   ]
  },
  {
   "cell_type": "code",
   "execution_count": 5,
   "metadata": {},
   "outputs": [],
   "source": [
    "train[feedback] = 1 # make data for training implicit"
   ]
  },
  {
   "cell_type": "markdown",
   "metadata": {},
   "source": [
    "### unseen items sampling"
   ]
  },
  {
   "cell_type": "markdown",
   "metadata": {},
   "source": [
    "Quote:  \n",
    "`...we consider for each user her corresponding test item along side 999 randomly sampled unseen items and we rank the 1000 item lists...`"
   ]
  },
  {
   "cell_type": "code",
   "execution_count": 6,
   "metadata": {},
   "outputs": [
    {
     "data": {
      "text/plain": [
       "userid\n",
       "1    [47, 1237, 2736, 275, 1125, 1116, 591, 2174, 3...\n",
       "2    [2951, 3331, 2664, 203, 1004, 3603, 3790, 22, ...\n",
       "3    [2629, 1676, 1341, 530, 2459, 2130, 2326, 1030...\n",
       "4    [119, 322, 3382, 3800, 1846, 2679, 2965, 1510,...\n",
       "5    [889, 3053, 1401, 60, 1674, 217, 3168, 528, 27...\n",
       "Name: movieid, dtype: object"
      ]
     },
     "execution_count": 6,
     "metadata": {},
     "output_type": "execute_result"
    }
   ],
   "source": [
    "validation_unseen = sample_unseen_interactions(\n",
    "    ml_data.query('userid in @validation.userid'),\n",
    "    train.movieid.unique(),\n",
    "    itemid='movieid', \n",
    "    seed=seed)\n",
    "validation_unseen.head()"
   ]
  },
  {
   "cell_type": "code",
   "execution_count": 7,
   "metadata": {},
   "outputs": [],
   "source": [
    "assert not ( # verify train and validation are disjoint\n",
    "    train\n",
    "    .groupby('userid', sort=False)\n",
    "    .movieid\n",
    "    .apply(lambda x: x.isin(validation_unseen.loc[x.name]).any()).any()\n",
    ")"
   ]
  },
  {
   "cell_type": "markdown",
   "metadata": {},
   "source": [
    "## Data Model Specification"
   ]
  },
  {
   "cell_type": "code",
   "execution_count": 8,
   "metadata": {},
   "outputs": [],
   "source": [
    "class RandomSampleEvaluationData(\n",
    "    RandomSampleEvaluationMixin, RecommenderData\n",
    "): pass"
   ]
  },
  {
   "cell_type": "code",
   "execution_count": 9,
   "metadata": {},
   "outputs": [
    {
     "name": "stdout",
     "output_type": "stream",
     "text": [
      "RandomSampleEvaluationData with Fields(userid='userid', itemid='movieid', feedback='rating')\n"
     ]
    }
   ],
   "source": [
    "data = RandomSampleEvaluationData(train, *train.columns)\n",
    "print(data)"
   ]
  },
  {
   "cell_type": "code",
   "execution_count": 10,
   "metadata": {},
   "outputs": [
    {
     "name": "stdout",
     "output_type": "stream",
     "text": [
      "Preparing data...\n",
      "Done.\n",
      "There are 988129 events in the training and 0 events in the holdout.\n"
     ]
    }
   ],
   "source": [
    "data.prepare_training_only()"
   ]
  },
  {
   "cell_type": "markdown",
   "metadata": {},
   "source": [
    "### setting holdout and unseen interctions"
   ]
  },
  {
   "cell_type": "code",
   "execution_count": 11,
   "metadata": {},
   "outputs": [
    {
     "name": "stdout",
     "output_type": "stream",
     "text": [
      "1 unique movieid entities within 1 holdout interactions were filtered. Reason: not in the training data.\n",
      "Done. There are 6039 events in the holdout.\n"
     ]
    }
   ],
   "source": [
    "data.set_test_data(holdout=validation, holdout_size=1)"
   ]
  },
  {
   "cell_type": "code",
   "execution_count": 12,
   "metadata": {},
   "outputs": [],
   "source": [
    "data.set_unseen_interactions(validation_unseen)"
   ]
  },
  {
   "cell_type": "code",
   "execution_count": 13,
   "metadata": {},
   "outputs": [
    {
     "data": {
      "text/plain": [
       "userid\n",
       "0    [46, 1146, 2529, 268, 1048, 1040, 577, 1991, 2...\n",
       "1    [2741, 3103, 2460, 197, 939, 3361, 3545, 21, 7...\n",
       "2    [2425, 1539, 1243, 516, 2264, 1947, 2131, 965,...\n",
       "3    [114, 313, 3150, 3555, 1665, 2475, 2752, 1392,...\n",
       "4    [830, 2837, 1301, 58, 1537, 211, 2950, 514, 25...\n",
       "Name: movieid, dtype: object"
      ]
     },
     "execution_count": 13,
     "metadata": {},
     "output_type": "execute_result"
    }
   ],
   "source": [
    "data.unseen_interactions.head()"
   ]
  },
  {
   "cell_type": "code",
   "execution_count": 14,
   "metadata": {},
   "outputs": [],
   "source": [
    "assert data.unseen_interactions.apply(len).eq(999).all()"
   ]
  },
  {
   "cell_type": "markdown",
   "metadata": {},
   "source": [
    "## PureSVD Model"
   ]
  },
  {
   "cell_type": "code",
   "execution_count": 15,
   "metadata": {},
   "outputs": [],
   "source": [
    "class RandomSampleEvaluationSVD(\n",
    "    RandomSampleEvaluationSVDMixin, SVDModel\n",
    "): pass"
   ]
  },
  {
   "cell_type": "code",
   "execution_count": 16,
   "metadata": {},
   "outputs": [],
   "source": [
    "svd = RandomSampleEvaluationSVD(data)"
   ]
  },
  {
   "cell_type": "markdown",
   "metadata": {},
   "source": [
    "### grid search on validation data"
   ]
  },
  {
   "cell_type": "code",
   "execution_count": 17,
   "metadata": {},
   "outputs": [
    {
     "data": {
      "text/html": [
       "<div><span class=\"Text-label\" style=\"display:inline-block; overflow:hidden; white-space:nowrap; text-overflow:ellipsis; min-width:0; max-width:15ex; vertical-align:middle; text-align:right\"></span>\n",
       "<progress style=\"width:60ex\" max=\"20\" value=\"20\" class=\"Progress-main\"/></progress>\n",
       "<span class=\"Progress-label\"><strong>100%</strong></span>\n",
       "<span class=\"Iteration-label\">20/20</span>\n",
       "<span class=\"Time-label\">[00:44<00:02, 2.22s/it]</span></div>"
      ],
      "text/plain": [
       "\u001b[A\u001b[2K\r",
       " [████████████████████████████████████████████████████████████] 20/20 [00:44<00:02, 2.22s/it]"
      ]
     },
     "metadata": {},
     "output_type": "display_data"
    }
   ],
   "source": [
    "best_svd_rank, svd_scores = find_optimal_svd_rank(\n",
    "    svd,\n",
    "    svd_ranks,\n",
    "    target_metric,\n",
    "    metric_type='main',\n",
    "    return_scores=True,\n",
    "    iterator=track\n",
    ")"
   ]
  },
  {
   "cell_type": "code",
   "execution_count": 18,
   "metadata": {},
   "outputs": [
    {
     "data": {
      "image/png": "[encoded data removed]",
      "text/plain": [
       "<Figure size 432x288 with 1 Axes>"
      ]
     },
     "metadata": {
      "needs_background": "light"
     },
     "output_type": "display_data"
    }
   ],
   "source": [
    "svd_scores.plot(title=target_metric.upper());"
   ]
  },
  {
   "cell_type": "markdown",
   "metadata": {},
   "source": [
    "### evaluation on withheld data"
   ]
  },
  {
   "cell_type": "code",
   "execution_count": 19,
   "metadata": {},
   "outputs": [
    {
     "name": "stdout",
     "output_type": "stream",
     "text": [
      "Preparing data...\n",
      "Done.\n",
      "There are 994169 events in the training and 0 events in the holdout.\n"
     ]
    }
   ],
   "source": [
    "# add validation data to train\n",
    "data._data = data._data.append(validation, ignore_index=True)\n",
    "data.prepare_training_only()"
   ]
  },
  {
   "cell_type": "code",
   "execution_count": 20,
   "metadata": {},
   "outputs": [
    {
     "name": "stdout",
     "output_type": "stream",
     "text": [
      "1 unique movieid entities within 1 holdout interactions were filtered. Reason: not in the training data.\n",
      "Done. There are 6039 events in the holdout.\n"
     ]
    }
   ],
   "source": [
    "data.set_test_data(holdout=holdout, holdout_size=1)"
   ]
  },
  {
   "cell_type": "code",
   "execution_count": 21,
   "metadata": {},
   "outputs": [],
   "source": [
    "holdout_unseen = sample_unseen_interactions(\n",
    "    ml_data.query('userid in @holdout.userid'),\n",
    "    data.index.itemid.old.values, # ensure validation is added\n",
    "    itemid='movieid', \n",
    "    seed = holdout_seed\n",
    ")"
   ]
  },
  {
   "cell_type": "code",
   "execution_count": 22,
   "metadata": {},
   "outputs": [],
   "source": [
    "assert not ( # verify train and holdout are disjoint\n",
    "    data._data # take validation split into account\n",
    "    .groupby('userid', sort=False)\n",
    "    .movieid\n",
    "    .apply(lambda x: x.isin(holdout_unseen.loc[x.name]).any()).any()\n",
    ")"
   ]
  },
  {
   "cell_type": "code",
   "execution_count": 23,
   "metadata": {},
   "outputs": [],
   "source": [
    "data.set_unseen_interactions(holdout_unseen)\n",
    "assert data.unseen_interactions.apply(len).eq(999).all()"
   ]
  },
  {
   "cell_type": "code",
   "execution_count": 24,
   "metadata": {},
   "outputs": [
    {
     "name": "stdout",
     "output_type": "stream",
     "text": [
      "Optimal SVD rank: 55\n",
      "PureSVD model is not ready. Rebuilding.\n",
      "PureSVD training time: 0.622s\n"
     ]
    },
    {
     "data": {
      "text/plain": [
       "[Relevance(hr=0.46564000662361316),\n",
       " Ranking(arhr=0.23904475407207648, mrr=0.23904475407207648)]"
      ]
     },
     "execution_count": 24,
     "metadata": {},
     "output_type": "execute_result"
    }
   ],
   "source": [
    "print(f'Optimal SVD rank: {best_svd_rank}')\n",
    "svd.rank = best_svd_rank\n",
    "svd.evaluate(metric_type='main')"
   ]
  },
  {
   "cell_type": "code",
   "execution_count": null,
   "metadata": {},
   "outputs": [],
   "source": []
  }
 ],
 "metadata": {
  "kernelspec": {
   "display_name": "Python [conda env:recwalk]",
   "language": "python",
   "name": "conda-env-recwalk-py"
  },
  "language_info": {
   "codemirror_mode": {
    "name": "ipython",
    "version": 3
   },
   "file_extension": ".py",
   "mimetype": "text/x-python",
   "name": "python",
   "nbconvert_exporter": "python",
   "pygments_lexer": "ipython3",
   "version": "3.6.10"
  }
 },
 "nbformat": 4,
 "nbformat_minor": 4
}
