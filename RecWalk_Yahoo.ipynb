{
 "cells": [
  {
   "cell_type": "code",
   "execution_count": 1,
   "metadata": {},
   "outputs": [],
   "source": [
    "import numpy as np\n",
    "import pandas as pd\n",
    "from scipy.sparse import csr_matrix, diags, eye, block_diag, bmat\n",
    "from scipy.sparse.linalg import norm\n",
    "\n",
    "try:\n",
    "    from ipypb import track\n",
    "except ImportError:\n",
    "    from tqdm.auto import tqdm as track\n",
    "\n",
    "from dataprep import split_holdout, sample_unseen_interactions\n",
    "from utils import topk_idx"
   ]
  },
  {
   "cell_type": "code",
   "execution_count": 2,
   "metadata": {},
   "outputs": [],
   "source": [
    "# randomization control\n",
    "seed = 0\n",
    "holdout_seed = 42 # to sample unseen items for holdout\n",
    "# evaluation setitings\n",
    "target_metric = 'hr'"
   ]
  },
  {
   "cell_type": "markdown",
   "metadata": {},
   "source": [
    "# Data"
   ]
  },
  {
   "cell_type": "code",
   "execution_count": 3,
   "metadata": {},
   "outputs": [
    {
     "data": {
      "text/html": [
       "<div>\n",
       "<style scoped>\n",
       "    .dataframe tbody tr th:only-of-type {\n",
       "        vertical-align: middle;\n",
       "    }\n",
       "\n",
       "    .dataframe tbody tr th {\n",
       "        vertical-align: top;\n",
       "    }\n",
       "\n",
       "    .dataframe thead th {\n",
       "        text-align: right;\n",
       "    }\n",
       "</style>\n",
       "<table border=\"1\" class=\"dataframe\">\n",
       "  <thead>\n",
       "    <tr style=\"text-align: right;\">\n",
       "      <th></th>\n",
       "      <th>userid</th>\n",
       "      <th>itemid</th>\n",
       "      <th>is_holdout</th>\n",
       "    </tr>\n",
       "  </thead>\n",
       "  <tbody>\n",
       "    <tr>\n",
       "      <th>0</th>\n",
       "      <td>346</td>\n",
       "      <td>1</td>\n",
       "      <td>False</td>\n",
       "    </tr>\n",
       "    <tr>\n",
       "      <th>1</th>\n",
       "      <td>385</td>\n",
       "      <td>1</td>\n",
       "      <td>False</td>\n",
       "    </tr>\n",
       "    <tr>\n",
       "      <th>2</th>\n",
       "      <td>517</td>\n",
       "      <td>1</td>\n",
       "      <td>False</td>\n",
       "    </tr>\n",
       "    <tr>\n",
       "      <th>3</th>\n",
       "      <td>538</td>\n",
       "      <td>1</td>\n",
       "      <td>False</td>\n",
       "    </tr>\n",
       "    <tr>\n",
       "      <th>4</th>\n",
       "      <td>651</td>\n",
       "      <td>1</td>\n",
       "      <td>False</td>\n",
       "    </tr>\n",
       "  </tbody>\n",
       "</table>\n",
       "</div>"
      ],
      "text/plain": [
       "   userid  itemid  is_holdout\n",
       "0     346       1       False\n",
       "1     385       1       False\n",
       "2     517       1       False\n",
       "3     538       1       False\n",
       "4     651       1       False"
      ]
     },
     "execution_count": 3,
     "metadata": {},
     "output_type": "execute_result"
    }
   ],
   "source": [
    "full_data = pd.read_csv('./data/raw/yahoo_data_full.gz')\n",
    "full_data.head(5)"
   ]
  },
  {
   "cell_type": "code",
   "execution_count": 4,
   "metadata": {},
   "outputs": [],
   "source": [
    "rs = np.random.RandomState(seed)\n",
    "\n",
    "train, holdout = split_holdout(  # test\n",
    "    full_data,\n",
    "    sample_max_rated = True,\n",
    "    feedback = 'is_holdout',\n",
    "    random_state = rs\n",
    ")"
   ]
  },
  {
   "cell_type": "code",
   "execution_count": 5,
   "metadata": {},
   "outputs": [],
   "source": [
    "assert not train.is_holdout.any()\n",
    "assert holdout.is_holdout.all()"
   ]
  },
  {
   "cell_type": "code",
   "execution_count": 6,
   "metadata": {},
   "outputs": [
    {
     "data": {
      "text/plain": [
       "userid\n",
       "346    [146, 895, 303, 1293, 624, 1287, 623, 436, 327...\n",
       "385    [2180, 1352, 502, 2802, 978, 2530, 3149, 999, ...\n",
       "517    [946, 416, 3254, 2866, 3030, 3256, 1902, 2226,...\n",
       "538    [1305, 2289, 1916, 2807, 2576, 2778, 1977, 753...\n",
       "651    [8, 2669, 2827, 2558, 3114, 2320, 428, 1155, 1...\n",
       "Name: itemid, dtype: object"
      ]
     },
     "execution_count": 6,
     "metadata": {},
     "output_type": "execute_result"
    }
   ],
   "source": [
    "holdout_unseen = sample_unseen_interactions(\n",
    "    full_data,\n",
    "    train.itemid.unique(), \n",
    "    seed=holdout_seed)\n",
    "holdout_unseen.head()"
   ]
  },
  {
   "cell_type": "markdown",
   "metadata": {},
   "source": [
    "## Use sparse format"
   ]
  },
  {
   "cell_type": "code",
   "execution_count": 7,
   "metadata": {},
   "outputs": [],
   "source": [
    "# encode users and items to [0, N] interval with no missing indices\n",
    "useridx, all_users = pd.factorize(train.userid)\n",
    "itemidx, all_items = pd.factorize(train.itemid)"
   ]
  },
  {
   "cell_type": "code",
   "execution_count": 8,
   "metadata": {},
   "outputs": [
    {
     "data": {
      "text/plain": [
       "<7307x3312 sparse matrix of type '<class 'numpy.float64'>'\n",
       "\twith 397438 stored elements in Compressed Sparse Row format>"
      ]
     },
     "execution_count": 8,
     "metadata": {},
     "output_type": "execute_result"
    }
   ],
   "source": [
    "rating_matrix = csr_matrix( # for efficient storage and some computations\n",
    "    (\n",
    "        np.ones(train.shape[0], dtype='f8'),\n",
    "        (useridx, itemidx)\n",
    "    )\n",
    ")\n",
    "rating_matrix"
   ]
  },
  {
   "cell_type": "code",
   "execution_count": 9,
   "metadata": {},
   "outputs": [
    {
     "name": "stdout",
     "output_type": "stream",
     "text": [
      "Users: 7307;\n",
      "Items: 3312;\n",
      "NNZ entries: 397438;\n",
      "Density: 1.642253%\n"
     ]
    }
   ],
   "source": [
    "print(\n",
    "    \"Users: {};\\nItems: {};\\nNNZ entries: {};\\nDensity: {:%}\"\n",
    "    .format(\n",
    "        *rating_matrix.shape,\n",
    "        rating_matrix.nnz,\n",
    "        rating_matrix.nnz / np.prod(rating_matrix.shape)\n",
    "    )\n",
    ")"
   ]
  },
  {
   "cell_type": "markdown",
   "metadata": {},
   "source": [
    "## Reindex datasets"
   ]
  },
  {
   "cell_type": "code",
   "execution_count": 10,
   "metadata": {},
   "outputs": [],
   "source": [
    "unseen_samples = np.array([\n",
    "    [all_items.get_loc(i) for i in x]\n",
    "    for x in holdout_unseen.loc[all_users]\n",
    "])\n",
    "\n",
    "holdout_items = (\n",
    "    holdout\n",
    "    .set_index('userid')\n",
    "    .loc[all_users, 'itemid']\n",
    "    .map(all_items.get_loc)\n",
    "    .values\n",
    ")"
   ]
  },
  {
   "cell_type": "markdown",
   "metadata": {},
   "source": [
    "# Model"
   ]
  },
  {
   "cell_type": "markdown",
   "metadata": {},
   "source": [
    "## SLIM"
   ]
  },
  {
   "cell_type": "markdown",
   "metadata": {},
   "source": [
    "```python\n",
    "from SLIM import SLIM, SLIMatrix\n",
    "#Parameters on NN:\n",
    "n_items = rating_matrix.shape[1]\n",
    "C = int(n_items * 0.1)\n",
    " #Train Matrix W:\n",
    "trainmat = SLIMatrix(rating_matrix)\n",
    "params = {'algo':'cd',\n",
    "          'nthreads': 4,\n",
    "          'l1r': 10,\n",
    "          'l2r': 10,\n",
    "          'nnbrs': C\n",
    "         }\n",
    "model = SLIM()\n",
    "model.train(params, trainmat)\n",
    "#Got Matrix W:\n",
    "WSlim = model.to_csr()\n",
    "np.savez_compressed(\n",
    "    'W_model_SLIM',\n",
    "    indices = WSlim.indices,\n",
    "    indptr = WSlim.indptr,\n",
    "    data = WSlim.data,\n",
    "    item_index = all_items\n",
    ")\n",
    "```"
   ]
  },
  {
   "cell_type": "code",
   "execution_count": 11,
   "metadata": {},
   "outputs": [
    {
     "data": {
      "text/plain": [
       "<3312x3312 sparse matrix of type '<class 'numpy.float32'>'\n",
       "\twith 50538 stored elements in Compressed Sparse Row format>"
      ]
     },
     "execution_count": 11,
     "metadata": {},
     "output_type": "execute_result"
    }
   ],
   "source": [
    "WSlim_data = np.load('W_model_SLIM.npz')\n",
    "WSlim = csr_matrix(\n",
    "    (WSlim_data['data'], WSlim_data['indices'], WSlim_data['indptr']),\n",
    "    shape = (len(WSlim_data['item_index']),)*2\n",
    ")\n",
    "assert np.testing.assert_array_equal(all_items, WSlim_data['item_index'])\n",
    "\n",
    "WSlim"
   ]
  },
  {
   "cell_type": "code",
   "execution_count": 12,
   "metadata": {},
   "outputs": [
    {
     "name": "stdout",
     "output_type": "stream",
     "text": [
      "Density of W: 0.460720%\n",
      "Number of elements less than 0 in W: 0\n",
      "Maximal diagonal element of the W:   0.0\n"
     ]
    }
   ],
   "source": [
    "#Density of distance matrix W, diagonal and other elements\n",
    "print(f\"Density of W: {WSlim.nnz / np.prod(WSlim.shape):%}\")\n",
    "print(f\"Number of elements less than 0 in W: {(WSlim.data<0).sum()}\")\n",
    "print(f\"Maximal diagonal element of the W:   {WSlim.diagonal().max()}\")"
   ]
  },
  {
   "cell_type": "markdown",
   "metadata": {},
   "source": [
    "## RecWalk"
   ]
  },
  {
   "cell_type": "code",
   "execution_count": 13,
   "metadata": {},
   "outputs": [],
   "source": [
    "#Make P matrix that our final recommendation model\n",
    "def rec_walk_model(item_model, rating_matrix, alpha=0.005):\n",
    "    inter_item = item_model / norm(item_model, np.inf)\n",
    "    adjustment = 1 - inter_item.sum(axis=1).A.squeeze() # stochasticity adjustment\n",
    "    inter_item += diags(adjustment, shape=item_model.shape, format='csr')\n",
    "\n",
    "    transition = block_diag( # M matrix\n",
    "        (eye(rating_matrix.shape[0], format='csr'), inter_item),\n",
    "        format = 'csr',\n",
    "        dtype = 'float64'\n",
    "    )\n",
    "    walk_model = bmat( # H matrix\n",
    "        [[None, rating_matrix], [rating_matrix.T, None]],\n",
    "        format = 'csr',\n",
    "        dtype = 'float64'\n",
    "    )\n",
    "    k = np.reciprocal(walk_model.sum(axis=1).A.squeeze())\n",
    "    walk_model = diags(k, format='csr').dot(walk_model)\n",
    "    return alpha * walk_model + (1-alpha) * transition"
   ]
  },
  {
   "cell_type": "code",
   "execution_count": 14,
   "metadata": {},
   "outputs": [],
   "source": [
    "#RecWalk P matrix with W SLIM based:\n",
    "transition_matrix = rec_walk_model(WSlim, rating_matrix)"
   ]
  },
  {
   "cell_type": "code",
   "execution_count": 15,
   "metadata": {},
   "outputs": [
    {
     "name": "stdout",
     "output_type": "stream",
     "text": [
      "Density of P: 0.759142%\n"
     ]
    }
   ],
   "source": [
    "print(f\"Density of P: {transition_matrix.nnz/np.prod(transition_matrix.shape):%}\")"
   ]
  },
  {
   "cell_type": "markdown",
   "metadata": {},
   "source": [
    "# Evaluation"
   ]
  },
  {
   "cell_type": "code",
   "execution_count": 16,
   "metadata": {},
   "outputs": [],
   "source": [
    "def evaluate(scores, holdout_items, holdout_unseen, topk=10):\n",
    "    rows = np.arange(len(holdout_items))\n",
    "    holdout_scores = scores[rows, holdout_items]\n",
    "    random_scores = scores[\n",
    "        np.broadcast_to(rows[:, None], holdout_unseen.shape),\n",
    "        holdout_unseen\n",
    "    ]\n",
    "    \n",
    "    test_scores = np.concatenate((holdout_scores[:, None], random_scores), axis=1)\n",
    "    top_recs = np.apply_along_axis(topk_idx, 1, test_scores, topk)        \n",
    "    _, rec_pos = np.where(top_recs == 0) # holdout has index 0 by construction\n",
    "    \n",
    "    hr = len(rec_pos) / len(holdout_items)\n",
    "    arhr = np.reciprocal(rec_pos + 1.).sum() / len(holdout_items)\n",
    "    return hr, arhr"
   ]
  },
  {
   "cell_type": "code",
   "execution_count": 17,
   "metadata": {},
   "outputs": [
    {
     "data": {
      "text/html": [
       "<div><span class=\"Text-label\" style=\"display:inline-block; overflow:hidden; white-space:nowrap; text-overflow:ellipsis; min-width:0; max-width:15ex; vertical-align:middle; text-align:right\"></span>\n",
       "<progress style=\"width:60ex\" max=\"20\" value=\"20\" class=\"Progress-main\"/></progress>\n",
       "<span class=\"Progress-label\"><strong>100%</strong></span>\n",
       "<span class=\"Iteration-label\">20/20</span>\n",
       "<span class=\"Time-label\">[01:42<00:05, 5.08s/it]</span></div>"
      ],
      "text/plain": [
       "\u001b[A\u001b[2K\r",
       " [████████████████████████████████████████████████████████████] 20/20 [01:42<00:05, 5.08s/it]"
      ]
     },
     "metadata": {},
     "output_type": "display_data"
    }
   ],
   "source": [
    "# Make a few more steps to future to capture intersactions between items:\n",
    "K = 20\n",
    "\n",
    "n_users = rating_matrix.shape[0]\n",
    "k_step_matrix = transition_matrix[:n_users, :].toarray()\n",
    "transition_matrix = transition_matrix.tocsc()\n",
    "\n",
    "metrics = []\n",
    "for k in track(range(K)): \n",
    "    k_step_matrix = transition_matrix.T.dot(k_step_matrix.T).T\n",
    "    prediction_matrix = k_step_matrix[:, n_users:]\n",
    "    metrics.append(\n",
    "        evaluate(prediction_matrix, holdout_items, unseen_samples)\n",
    "    )"
   ]
  },
  {
   "cell_type": "code",
   "execution_count": 18,
   "metadata": {},
   "outputs": [
    {
     "data": {
      "text/plain": [
       "(0.546188586287122, 0.28086836714522495)"
      ]
     },
     "execution_count": 18,
     "metadata": {},
     "output_type": "execute_result"
    }
   ],
   "source": [
    "metrics[3] # k = 5 -> 3 elem."
   ]
  },
  {
   "cell_type": "markdown",
   "metadata": {},
   "source": [
    "Best result: HR@10 = 0.5462;  \n",
    "k = 5; y1 = 10; y2 = 10; C = 331; alpha = 0.005;\n",
    "\n",
    "Best result: ARHR@10 = 0.2809;  \n",
    "k = 5; y1 = 10; y2 = 10; C = 331; alpha = 0.005;"
   ]
  },
  {
   "cell_type": "markdown",
   "metadata": {},
   "source": [
    "## Plot results"
   ]
  },
  {
   "cell_type": "code",
   "execution_count": 19,
   "metadata": {},
   "outputs": [],
   "source": [
    "%matplotlib inline\n",
    "%config InlineBackend.figure_format='retina'"
   ]
  },
  {
   "cell_type": "code",
   "execution_count": 20,
   "metadata": {},
   "outputs": [],
   "source": [
    "hr, arhr = zip(*metrics)"
   ]
  },
  {
   "cell_type": "code",
   "execution_count": 21,
   "metadata": {},
   "outputs": [
    {
     "data": {
      "image/png": "[encoded data removed]",
      "text/plain": [
       "<Figure size 432x288 with 2 Axes>"
      ]
     },
     "metadata": {
      "image/png": {
       "height": 261,
       "width": 407
      },
      "needs_background": "light"
     },
     "output_type": "display_data"
    }
   ],
   "source": [
    "ax1 = pd.Series(hr).plot(linestyle='-', marker='*', label='HR@10')\n",
    "ax2 = pd.Series(arhr).plot(secondary_y=True, linestyle='-', marker='*', label='ARHR@10')\n",
    "\n",
    "ax1.set_xlabel('K')\n",
    "ax1.xaxis.grid(True, linestyle=':')\n",
    "ax1.set_xticks(range(0, 22, 2))\n",
    "ax1.legend(loc=3)\n",
    "\n",
    "ax2.legend(loc=0);"
   ]
  },
  {
   "cell_type": "code",
   "execution_count": null,
   "metadata": {},
   "outputs": [],
   "source": []
  }
 ],
 "metadata": {
  "kernelspec": {
   "display_name": "Python [conda env:recwalk]",
   "language": "python",
   "name": "conda-env-recwalk-py"
  },
  "language_info": {
   "codemirror_mode": {
    "name": "ipython",
    "version": 3
   },
   "file_extension": ".py",
   "mimetype": "text/x-python",
   "name": "python",
   "nbconvert_exporter": "python",
   "pygments_lexer": "ipython3",
   "version": "3.6.10"
  }
 },
 "nbformat": 4,
 "nbformat_minor": 4
}
