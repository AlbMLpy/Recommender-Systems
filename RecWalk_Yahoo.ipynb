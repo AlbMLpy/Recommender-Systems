{
 "cells": [
  {
   "cell_type": "code",
   "execution_count": 1,
   "metadata": {},
   "outputs": [],
   "source": [
    "import warnings\n",
    "\n",
    "import pandas as pd\n",
    "import numpy as np\n",
    "from scipy.sparse import csr_matrix, csc_matrix\n",
    "from scipy.sparse.linalg import norm\n",
    "\n",
    "from sklearn.linear_model import ElasticNet\n",
    "from sklearn.metrics.pairwise import cosine_similarity\n",
    "from sklearn.model_selection import train_test_split\n",
    "\n",
    "\n",
    "from polara.datasets.movielens import get_movielens_data\n",
    "\n",
    "from SLIM import SLIM, SLIMatrix\n",
    "\n",
    "from dataprep import split_holdout, sample_unseen_interactions\n",
    "\n",
    "warnings.filterwarnings(\"ignore\")"
   ]
  },
  {
   "cell_type": "code",
   "execution_count": 2,
   "metadata": {},
   "outputs": [],
   "source": [
    "#Check data for consistency\n",
    "\n",
    "def check_train_test(train, test, itemid='itemid'):\n",
    "    intersection = np.setdiff1d(test[itemid], train[itemid]).tolist()\n",
    "    print(intersection)\n",
    "    if len(intersection) == 0:\n",
    "        return\n",
    "    train = train.append(test.query(f\"{itemid:s} == @intersection\"))\n",
    "    test = test.query(f\"{itemid:s} != @intersection\")\n",
    "    return train, test"
   ]
  },
  {
   "cell_type": "code",
   "execution_count": 3,
   "metadata": {},
   "outputs": [],
   "source": [
    "#Make P matrix that our final recommendation model\n",
    "\n",
    "def rec_walk_model(W, R, alp=0.005):\n",
    "    normW = norm(W, np.inf) # Count infinite matrix norm of our Model\n",
    "    ones = np.ones(W.shape[0])\n",
    "    W = W / normW\n",
    "    diagVec = ones - W.dot(ones)\n",
    "    row = range(0,diagVec.shape[0])\n",
    "    col = range(0,diagVec.shape[0])\n",
    "    Diag = csr_matrix((diagVec, (row, col)), shape=(diagVec.shape[0], diagVec.shape[0]))\n",
    "    W = W + Diag\n",
    "\n",
    "    M = csr_matrix(np.diag(np.ones(R.shape[0] + R.shape[1])), dtype='float64') # One of two Mtx in RecWalkModel\n",
    "    M[M.shape[0]-W.shape[0]:, M.shape[0]-W.shape[0]:] = W\n",
    "\n",
    "    H = csr_matrix(np.diag(np.zeros(R.shape[0] + R.shape[1])), dtype='float64')\n",
    "    H[: R.shape[0], H.shape[1] - R.shape[1]:] = R\n",
    "    H[H.shape[0] - R.shape[1]:, : R.shape[0]] = R.transpose()\n",
    "    k = H.dot(np.ones(R.shape[0] + R.shape[1]))\n",
    "    k = 1 / k\n",
    "    H = csr_matrix((H.transpose().dot(np.diag(k).transpose())).transpose())\n",
    "\n",
    "    P = alp*H + (1 - alp)*M\n",
    "    return P"
   ]
  },
  {
   "cell_type": "markdown",
   "metadata": {},
   "source": [
    "### HR & ARHR function is the same as in PureSVD"
   ]
  },
  {
   "cell_type": "code",
   "execution_count": 4,
   "metadata": {},
   "outputs": [],
   "source": [
    "def HR(rec_mtx, holdout_unseen, holdout, userid='userid', itemid='itemid', arhr=False, topN = 10):\n",
    "    summ_hr = 0.0\n",
    "    summ_arhr = 0.0\n",
    "    for i in holdout[userid].values:\n",
    "        holdout_unseen[i] = np.append(holdout_unseen[i], holdout[itemid][i])\n",
    "        sor = (rec_mtx.loc[i:i][holdout_unseen[i]]\n",
    "                .unstack()\n",
    "                .sort_values(ascending=False)[:topN]\n",
    "                .droplevel(level=1, axis=0)\n",
    "                .index\n",
    "        )\n",
    "        if holdout[itemid][i] in sor:\n",
    "            summ_hr = summ_hr + 1\n",
    "            if arhr:\n",
    "                local = sor.to_series(index=range(1,topN+1))[sor==holdout[itemid][i]].index[0]\n",
    "                summ_arhr = summ_arhr + 1/local    \n",
    "   \n",
    "    return summ_hr/holdout.shape[0], summ_arhr/holdout.shape[0]    "
   ]
  },
  {
   "cell_type": "code",
   "execution_count": 5,
   "metadata": {},
   "outputs": [],
   "source": [
    "# randomization control\n",
    "seed = 0\n",
    "holdout_seed = 42 # to sample unseen items for holdout\n",
    "# evaluation setitings\n",
    "target_metric = 'hr'"
   ]
  },
  {
   "cell_type": "code",
   "execution_count": 6,
   "metadata": {},
   "outputs": [
    {
     "data": {
      "text/html": [
       "<div>\n",
       "<style scoped>\n",
       "    .dataframe tbody tr th:only-of-type {\n",
       "        vertical-align: middle;\n",
       "    }\n",
       "\n",
       "    .dataframe tbody tr th {\n",
       "        vertical-align: top;\n",
       "    }\n",
       "\n",
       "    .dataframe thead th {\n",
       "        text-align: right;\n",
       "    }\n",
       "</style>\n",
       "<table border=\"1\" class=\"dataframe\">\n",
       "  <thead>\n",
       "    <tr style=\"text-align: right;\">\n",
       "      <th></th>\n",
       "      <th>userid</th>\n",
       "      <th>itemid</th>\n",
       "      <th>is_holdout</th>\n",
       "    </tr>\n",
       "  </thead>\n",
       "  <tbody>\n",
       "    <tr>\n",
       "      <td>0</td>\n",
       "      <td>346</td>\n",
       "      <td>1</td>\n",
       "      <td>False</td>\n",
       "    </tr>\n",
       "    <tr>\n",
       "      <td>1</td>\n",
       "      <td>385</td>\n",
       "      <td>1</td>\n",
       "      <td>False</td>\n",
       "    </tr>\n",
       "    <tr>\n",
       "      <td>2</td>\n",
       "      <td>517</td>\n",
       "      <td>1</td>\n",
       "      <td>False</td>\n",
       "    </tr>\n",
       "    <tr>\n",
       "      <td>3</td>\n",
       "      <td>538</td>\n",
       "      <td>1</td>\n",
       "      <td>False</td>\n",
       "    </tr>\n",
       "    <tr>\n",
       "      <td>4</td>\n",
       "      <td>651</td>\n",
       "      <td>1</td>\n",
       "      <td>False</td>\n",
       "    </tr>\n",
       "  </tbody>\n",
       "</table>\n",
       "</div>"
      ],
      "text/plain": [
       "   userid  itemid  is_holdout\n",
       "0     346       1       False\n",
       "1     385       1       False\n",
       "2     517       1       False\n",
       "3     538       1       False\n",
       "4     651       1       False"
      ]
     },
     "execution_count": 6,
     "metadata": {},
     "output_type": "execute_result"
    }
   ],
   "source": [
    "full_data = pd.read_csv('/home/albert/Recommendations/yahoo_data_full.gz')\n",
    "full_data.head(5)"
   ]
  },
  {
   "cell_type": "code",
   "execution_count": 7,
   "metadata": {},
   "outputs": [],
   "source": [
    "rs = np.random.RandomState(seed)\n",
    "\n",
    "train, holdout = split_holdout(  # test\n",
    "    full_data,\n",
    "    sample_max_rated = True,\n",
    "    feedback = 'is_holdout',\n",
    "    random_state = rs\n",
    ")\n",
    "holdout.index = holdout.userid"
   ]
  },
  {
   "cell_type": "code",
   "execution_count": 8,
   "metadata": {},
   "outputs": [],
   "source": [
    "assert not train.is_holdout.any()\n",
    "assert holdout.is_holdout.all()"
   ]
  },
  {
   "cell_type": "code",
   "execution_count": 9,
   "metadata": {},
   "outputs": [
    {
     "data": {
      "text/plain": [
       "userid\n",
       "346    [146, 895, 303, 1293, 624, 1287, 623, 436, 327...\n",
       "385    [2180, 1352, 502, 2802, 978, 2530, 3149, 999, ...\n",
       "517    [946, 416, 3254, 2866, 3030, 3256, 1902, 2226,...\n",
       "538    [1305, 2289, 1916, 2807, 2576, 2778, 1977, 753...\n",
       "651    [8, 2669, 2827, 2558, 3114, 2320, 428, 1155, 1...\n",
       "Name: itemid, dtype: object"
      ]
     },
     "execution_count": 9,
     "metadata": {},
     "output_type": "execute_result"
    }
   ],
   "source": [
    "holdout_unseen = sample_unseen_interactions(\n",
    "    full_data,\n",
    "    train.itemid.unique(), \n",
    "    seed=holdout_seed)\n",
    "holdout_unseen.head()"
   ]
  },
  {
   "cell_type": "code",
   "execution_count": 10,
   "metadata": {},
   "outputs": [
    {
     "data": {
      "text/html": [
       "<div>\n",
       "<style scoped>\n",
       "    .dataframe tbody tr th:only-of-type {\n",
       "        vertical-align: middle;\n",
       "    }\n",
       "\n",
       "    .dataframe tbody tr th {\n",
       "        vertical-align: top;\n",
       "    }\n",
       "\n",
       "    .dataframe thead th {\n",
       "        text-align: right;\n",
       "    }\n",
       "</style>\n",
       "<table border=\"1\" class=\"dataframe\">\n",
       "  <thead>\n",
       "    <tr style=\"text-align: right;\">\n",
       "      <th>itemid</th>\n",
       "      <th>1</th>\n",
       "      <th>2</th>\n",
       "      <th>3</th>\n",
       "      <th>4</th>\n",
       "      <th>5</th>\n",
       "      <th>6</th>\n",
       "      <th>7</th>\n",
       "      <th>8</th>\n",
       "      <th>9</th>\n",
       "      <th>10</th>\n",
       "      <th>...</th>\n",
       "      <th>3303</th>\n",
       "      <th>3304</th>\n",
       "      <th>3305</th>\n",
       "      <th>3306</th>\n",
       "      <th>3307</th>\n",
       "      <th>3308</th>\n",
       "      <th>3309</th>\n",
       "      <th>3310</th>\n",
       "      <th>3311</th>\n",
       "      <th>3312</th>\n",
       "    </tr>\n",
       "    <tr>\n",
       "      <th>userid</th>\n",
       "      <th></th>\n",
       "      <th></th>\n",
       "      <th></th>\n",
       "      <th></th>\n",
       "      <th></th>\n",
       "      <th></th>\n",
       "      <th></th>\n",
       "      <th></th>\n",
       "      <th></th>\n",
       "      <th></th>\n",
       "      <th></th>\n",
       "      <th></th>\n",
       "      <th></th>\n",
       "      <th></th>\n",
       "      <th></th>\n",
       "      <th></th>\n",
       "      <th></th>\n",
       "      <th></th>\n",
       "      <th></th>\n",
       "      <th></th>\n",
       "      <th></th>\n",
       "    </tr>\n",
       "  </thead>\n",
       "  <tbody>\n",
       "    <tr>\n",
       "      <td>1</td>\n",
       "      <td>0.0</td>\n",
       "      <td>0.0</td>\n",
       "      <td>0.0</td>\n",
       "      <td>0.0</td>\n",
       "      <td>0.0</td>\n",
       "      <td>0.0</td>\n",
       "      <td>0.0</td>\n",
       "      <td>0.0</td>\n",
       "      <td>0.0</td>\n",
       "      <td>0.0</td>\n",
       "      <td>...</td>\n",
       "      <td>0.0</td>\n",
       "      <td>0.0</td>\n",
       "      <td>0.0</td>\n",
       "      <td>0.0</td>\n",
       "      <td>0.0</td>\n",
       "      <td>0.0</td>\n",
       "      <td>0.0</td>\n",
       "      <td>0.0</td>\n",
       "      <td>0.0</td>\n",
       "      <td>0.0</td>\n",
       "    </tr>\n",
       "    <tr>\n",
       "      <td>2</td>\n",
       "      <td>0.0</td>\n",
       "      <td>0.0</td>\n",
       "      <td>0.0</td>\n",
       "      <td>0.0</td>\n",
       "      <td>0.0</td>\n",
       "      <td>0.0</td>\n",
       "      <td>0.0</td>\n",
       "      <td>0.0</td>\n",
       "      <td>0.0</td>\n",
       "      <td>0.0</td>\n",
       "      <td>...</td>\n",
       "      <td>0.0</td>\n",
       "      <td>0.0</td>\n",
       "      <td>0.0</td>\n",
       "      <td>0.0</td>\n",
       "      <td>0.0</td>\n",
       "      <td>1.0</td>\n",
       "      <td>0.0</td>\n",
       "      <td>0.0</td>\n",
       "      <td>0.0</td>\n",
       "      <td>0.0</td>\n",
       "    </tr>\n",
       "    <tr>\n",
       "      <td>3</td>\n",
       "      <td>0.0</td>\n",
       "      <td>0.0</td>\n",
       "      <td>0.0</td>\n",
       "      <td>0.0</td>\n",
       "      <td>0.0</td>\n",
       "      <td>0.0</td>\n",
       "      <td>0.0</td>\n",
       "      <td>0.0</td>\n",
       "      <td>0.0</td>\n",
       "      <td>0.0</td>\n",
       "      <td>...</td>\n",
       "      <td>0.0</td>\n",
       "      <td>0.0</td>\n",
       "      <td>0.0</td>\n",
       "      <td>0.0</td>\n",
       "      <td>0.0</td>\n",
       "      <td>0.0</td>\n",
       "      <td>0.0</td>\n",
       "      <td>0.0</td>\n",
       "      <td>0.0</td>\n",
       "      <td>0.0</td>\n",
       "    </tr>\n",
       "    <tr>\n",
       "      <td>4</td>\n",
       "      <td>0.0</td>\n",
       "      <td>0.0</td>\n",
       "      <td>0.0</td>\n",
       "      <td>0.0</td>\n",
       "      <td>0.0</td>\n",
       "      <td>0.0</td>\n",
       "      <td>0.0</td>\n",
       "      <td>0.0</td>\n",
       "      <td>0.0</td>\n",
       "      <td>0.0</td>\n",
       "      <td>...</td>\n",
       "      <td>0.0</td>\n",
       "      <td>0.0</td>\n",
       "      <td>0.0</td>\n",
       "      <td>0.0</td>\n",
       "      <td>0.0</td>\n",
       "      <td>0.0</td>\n",
       "      <td>0.0</td>\n",
       "      <td>0.0</td>\n",
       "      <td>0.0</td>\n",
       "      <td>0.0</td>\n",
       "    </tr>\n",
       "    <tr>\n",
       "      <td>5</td>\n",
       "      <td>0.0</td>\n",
       "      <td>0.0</td>\n",
       "      <td>0.0</td>\n",
       "      <td>0.0</td>\n",
       "      <td>0.0</td>\n",
       "      <td>0.0</td>\n",
       "      <td>0.0</td>\n",
       "      <td>0.0</td>\n",
       "      <td>0.0</td>\n",
       "      <td>0.0</td>\n",
       "      <td>...</td>\n",
       "      <td>0.0</td>\n",
       "      <td>0.0</td>\n",
       "      <td>0.0</td>\n",
       "      <td>0.0</td>\n",
       "      <td>0.0</td>\n",
       "      <td>0.0</td>\n",
       "      <td>0.0</td>\n",
       "      <td>0.0</td>\n",
       "      <td>0.0</td>\n",
       "      <td>0.0</td>\n",
       "    </tr>\n",
       "  </tbody>\n",
       "</table>\n",
       "<p>5 rows × 3312 columns</p>\n",
       "</div>"
      ],
      "text/plain": [
       "itemid  1     2     3     4     5     6     7     8     9     10    ...  3303  \\\n",
       "userid                                                              ...         \n",
       "1        0.0   0.0   0.0   0.0   0.0   0.0   0.0   0.0   0.0   0.0  ...   0.0   \n",
       "2        0.0   0.0   0.0   0.0   0.0   0.0   0.0   0.0   0.0   0.0  ...   0.0   \n",
       "3        0.0   0.0   0.0   0.0   0.0   0.0   0.0   0.0   0.0   0.0  ...   0.0   \n",
       "4        0.0   0.0   0.0   0.0   0.0   0.0   0.0   0.0   0.0   0.0  ...   0.0   \n",
       "5        0.0   0.0   0.0   0.0   0.0   0.0   0.0   0.0   0.0   0.0  ...   0.0   \n",
       "\n",
       "itemid  3304  3305  3306  3307  3308  3309  3310  3311  3312  \n",
       "userid                                                        \n",
       "1        0.0   0.0   0.0   0.0   0.0   0.0   0.0   0.0   0.0  \n",
       "2        0.0   0.0   0.0   0.0   1.0   0.0   0.0   0.0   0.0  \n",
       "3        0.0   0.0   0.0   0.0   0.0   0.0   0.0   0.0   0.0  \n",
       "4        0.0   0.0   0.0   0.0   0.0   0.0   0.0   0.0   0.0  \n",
       "5        0.0   0.0   0.0   0.0   0.0   0.0   0.0   0.0   0.0  \n",
       "\n",
       "[5 rows x 3312 columns]"
      ]
     },
     "execution_count": 10,
     "metadata": {},
     "output_type": "execute_result"
    }
   ],
   "source": [
    "train.is_holdout = 1.0\n",
    "ratingMtx = train.pivot(index='userid', columns='itemid', values='is_holdout').fillna(0.0)\n",
    "ratingMtx.head()"
   ]
  },
  {
   "cell_type": "code",
   "execution_count": 11,
   "metadata": {},
   "outputs": [
    {
     "data": {
      "text/plain": [
       "(7307, 3312)"
      ]
     },
     "execution_count": 11,
     "metadata": {},
     "output_type": "execute_result"
    }
   ],
   "source": [
    "ratingMtx.shape"
   ]
  },
  {
   "cell_type": "code",
   "execution_count": 12,
   "metadata": {},
   "outputs": [],
   "source": [
    "sparseRating = csr_matrix(ratingMtx.to_numpy())"
   ]
  },
  {
   "cell_type": "code",
   "execution_count": 13,
   "metadata": {},
   "outputs": [
    {
     "name": "stdout",
     "output_type": "stream",
     "text": [
      "Users: 7307;\n",
      "Items: 3312;\n",
      "Entries all: 24200784;\n",
      "Entries non zero: 397438;\n",
      "Density of A: 0.016422525815692583;\n",
      "\n"
     ]
    }
   ],
   "source": [
    "#What is the density of initial rating?:\n",
    "\n",
    "a = ratingMtx.index.size\n",
    "b = ratingMtx.columns.size\n",
    "c = a * b\n",
    "\n",
    "print(\"Users: {};\\nItems: {};\\nEntries all: {};\\nEntries non zero: {};\\nDensity of A: {};\\n\".\\\n",
    "      format(a, b, c, sparseRating.size, sparseRating.size / c))"
   ]
  },
  {
   "cell_type": "code",
   "execution_count": 14,
   "metadata": {},
   "outputs": [],
   "source": [
    "#Parameters on NN:\n",
    "\n",
    "num = 0.1\n",
    "C = int(ratingMtx.columns.size*num)\n",
    "initHR = 0.0"
   ]
  },
  {
   "cell_type": "code",
   "execution_count": 15,
   "metadata": {},
   "outputs": [
    {
     "name": "stdout",
     "output_type": "stream",
     "text": [
      "Learning takes 3.560 secs.\n"
     ]
    }
   ],
   "source": [
    " #Train Matrix W:\n",
    "trainmat = SLIMatrix(sparseRating)\n",
    "params = {'algo':'cd',\n",
    "          'nthreads':4,\n",
    "          'l1r':10,\n",
    "          'l2r':10,\n",
    "          'nnbrs': C\n",
    "         }\n",
    "model = SLIM()\n",
    "model.train(params, trainmat)\n",
    "    \n",
    "#Got Matrix W:\n",
    "WSlim = model.to_csr()"
   ]
  },
  {
   "cell_type": "code",
   "execution_count": 16,
   "metadata": {},
   "outputs": [
    {
     "name": "stdout",
     "output_type": "stream",
     "text": [
      "Density of Rating matrix: 0.016422525815692583;\n",
      "\n",
      "Density of W: 0.004607203493663796;\n",
      "\n",
      "Number of elements less than 0 in W matrix: 0 \n",
      "\n",
      "Maximal diagonal element of the W matrix: 0.0\n",
      "\n"
     ]
    }
   ],
   "source": [
    "#Density of distance matrix W, diagonal and other elements\n",
    "print(\"Density of Rating matrix: {};\\n\".format(sparseRating.size / c))\n",
    "print(\"Density of W: {};\\n\".format(WSlim.size / WSlim.shape[0]**2))\n",
    "print(\"Number of elements less than 0 in W matrix: {} \\n\".format(WSlim.toarray()[WSlim.toarray()<0].size))\n",
    "print(\"Maximal diagonal element of the W matrix: {}\\n\".format(WSlim.diagonal().max()))"
   ]
  },
  {
   "cell_type": "code",
   "execution_count": 17,
   "metadata": {},
   "outputs": [],
   "source": [
    "#RecWalk P matrix with W SLIM based:\n",
    "PMtxSlim = rec_walk_model(WSlim, sparseRating).toarray()"
   ]
  },
  {
   "cell_type": "code",
   "execution_count": 19,
   "metadata": {},
   "outputs": [],
   "source": [
    "#Make a few more steps to future to capture intersactions between items:\n",
    "K = 20\n",
    "kMtxSlim = PMtxSlim\n",
    "hr_arhr = []\n",
    "for k in range(K): \n",
    "    kMtxSlim = kMtxSlim@PMtxSlim\n",
    "        \n",
    "    #Get essential information on scores from achieved Recommendation Matrix P:\n",
    "    RecSlim = pd.DataFrame(kMtxSlim[: ratingMtx.shape[0], ratingMtx.shape[0]:], \n",
    "                                   index=ratingMtx.index,\n",
    "                                   columns=ratingMtx.columns,\n",
    "                                   dtype='float64')\n",
    "        \n",
    "    #Count HR/ARHR of Recommendation for every user using test set:\n",
    "    hr_arhr.append(HR(RecSlim, holdout_unseen, holdout, arhr=True))               "
   ]
  },
  {
   "cell_type": "code",
   "execution_count": 28,
   "metadata": {},
   "outputs": [],
   "source": [
    "%matplotlib inline\n",
    "import matplotlib.pyplot as plt\n",
    "plt.style.use('seaborn-whitegrid')"
   ]
  },
  {
   "cell_type": "code",
   "execution_count": 29,
   "metadata": {},
   "outputs": [],
   "source": [
    "hr = []\n",
    "arhr= []\n",
    "for i in hr_arhr:\n",
    "    hr.append(i[0])\n",
    "    arhr.append(i[1])"
   ]
  },
  {
   "cell_type": "code",
   "execution_count": 42,
   "metadata": {},
   "outputs": [
    {
     "data": {
      "text/plain": [
       "[<matplotlib.lines.Line2D at 0x7f597ab14790>]"
      ]
     },
     "execution_count": 42,
     "metadata": {},
     "output_type": "execute_result"
    },
    {
     "data": {
      "image/png": "[encoded data removed]",
      "text/plain": [
       "<Figure size 432x288 with 1 Axes>"
      ]
     },
     "metadata": {
      "needs_background": "light"
     },
     "output_type": "display_data"
    }
   ],
   "source": [
    "x = range(2,22)\n",
    "plt.title(f\"HR@10\")\n",
    "plt.xlabel(\"K\")\n",
    "plt.ylabel(\"HR\");\n",
    "plt.plot(x, hr, '*-b')"
   ]
  },
  {
   "cell_type": "code",
   "execution_count": 43,
   "metadata": {},
   "outputs": [
    {
     "data": {
      "text/plain": [
       "[<matplotlib.lines.Line2D at 0x7f597aa937d0>]"
      ]
     },
     "execution_count": 43,
     "metadata": {},
     "output_type": "execute_result"
    },
    {
     "data": {
      "image/png": "[encoded data removed]",
      "text/plain": [
       "<Figure size 432x288 with 1 Axes>"
      ]
     },
     "metadata": {
      "needs_background": "light"
     },
     "output_type": "display_data"
    }
   ],
   "source": [
    "plt.title(f\"ARHR@10\")\n",
    "plt.xlabel(\"K\")\n",
    "plt.ylabel(\"ARHR\");\n",
    "plt.plot(x, arhr, '*-r')"
   ]
  },
  {
   "cell_type": "code",
   "execution_count": 44,
   "metadata": {},
   "outputs": [
    {
     "data": {
      "text/plain": [
       "(0.546188586287122, 0.28086836714522384)"
      ]
     },
     "execution_count": 44,
     "metadata": {},
     "output_type": "execute_result"
    }
   ],
   "source": [
    "hr_arhr[3]# k = 5 -> 3 elem."
   ]
  },
  {
   "cell_type": "markdown",
   "metadata": {},
   "source": [
    "### Best result: HR@10 =0.5461; \n",
    "#### k = 5; y1 = 10; y2 = 10; C = 331; alp = 0.005;\n",
    "\n",
    "### Best result: ARHR@10 = 0.2808; \n",
    "#### k = 5; y1 = 10; y2 = 10; C = 331; alp = 0.005;"
   ]
  },
  {
   "cell_type": "code",
   "execution_count": 46,
   "metadata": {},
   "outputs": [],
   "source": [
    "np.savez_compressed('W_model_SLIM.npz', WSlim = WSlim)"
   ]
  }
 ],
 "metadata": {
  "kernelspec": {
   "display_name": "Python 3",
   "language": "python",
   "name": "python3"
  },
  "language_info": {
   "codemirror_mode": {
    "name": "ipython",
    "version": 3
   },
   "file_extension": ".py",
   "mimetype": "text/x-python",
   "name": "python",
   "nbconvert_exporter": "python",
   "pygments_lexer": "ipython3",
   "version": "3.7.4"
  }
 },
 "nbformat": 4,
 "nbformat_minor": 2
}
