{
 "cells": [
  {
   "cell_type": "markdown",
   "metadata": {},
   "source": [
    "!pip install --no-cache-dir --upgrade git+https://github.com/Evfro/polara.git@develop#egg=polara  \n",
    "!pip install ipypb"
   ]
  },
  {
   "cell_type": "code",
   "execution_count": 1,
   "metadata": {},
   "outputs": [],
   "source": [
    "import numpy as np\n",
    "import pandas as pd\n",
    "\n",
    "from polara import RecommenderData, SVDModel\n",
    "from polara.recommender.models import RandomSampleEvaluationSVDMixin\n",
    "from polara.recommender.data import RandomSampleEvaluationMixin\n",
    "from polara.evaluation.pipelines import find_optimal_svd_rank\n",
    "\n",
    "try:\n",
    "    from ipypb import track\n",
    "except ImportError:\n",
    "    from tqdm.auto import tqdm as track\n",
    "\n",
    "from dataprep import split_holdout, sample_unseen_interactions"
   ]
  },
  {
   "cell_type": "markdown",
   "metadata": {},
   "source": [
    "---\n",
    "The following setup is based on experiment description from the RecWalk paper:  \n",
    "_\"RecWalk: Nearly Uncoupled Random Walks for Top-N Recommendation\"_; Athanasios N. Nikolakopoulos, George Karypis; WSDM '19.  \n",
    "---"
   ]
  },
  {
   "cell_type": "code",
   "execution_count": 2,
   "metadata": {},
   "outputs": [],
   "source": [
    "# randomization control\n",
    "seed = 0\n",
    "holdout_seed = 42 # to sample unseen items for holdout\n",
    "# evaluation setitings\n",
    "target_metric = 'hr'\n",
    "svd_ranks = range(5, 101, 5)"
   ]
  },
  {
   "cell_type": "markdown",
   "metadata": {},
   "source": [
    "Logged results (with kernel restarts):  \n",
    "```python\n",
    "seed = 0, holdout_seed = 42\n",
    "\n",
    "sample_max_rated = True, rating_threshold = 0:  \n",
    "hr=0.3874367045299028, arhr=0.17455565548148003\n",
    "```"
   ]
  },
  {
   "cell_type": "markdown",
   "metadata": {},
   "source": [
    "## Data preprocessing"
   ]
  },
  {
   "cell_type": "code",
   "execution_count": 3,
   "metadata": {},
   "outputs": [],
   "source": [
    "full_data = pd.read_csv('./data/raw/yahoo_data_full.gz')"
   ]
  },
  {
   "cell_type": "code",
   "execution_count": 4,
   "metadata": {},
   "outputs": [
    {
     "data": {
      "text/html": [
       "<div>\n",
       "<style scoped>\n",
       "    .dataframe tbody tr th:only-of-type {\n",
       "        vertical-align: middle;\n",
       "    }\n",
       "\n",
       "    .dataframe tbody tr th {\n",
       "        vertical-align: top;\n",
       "    }\n",
       "\n",
       "    .dataframe thead th {\n",
       "        text-align: right;\n",
       "    }\n",
       "</style>\n",
       "<table border=\"1\" class=\"dataframe\">\n",
       "  <thead>\n",
       "    <tr style=\"text-align: right;\">\n",
       "      <th></th>\n",
       "      <th>userid</th>\n",
       "      <th>itemid</th>\n",
       "      <th>is_holdout</th>\n",
       "    </tr>\n",
       "  </thead>\n",
       "  <tbody>\n",
       "    <tr>\n",
       "      <th>0</th>\n",
       "      <td>346</td>\n",
       "      <td>1</td>\n",
       "      <td>False</td>\n",
       "    </tr>\n",
       "    <tr>\n",
       "      <th>1</th>\n",
       "      <td>385</td>\n",
       "      <td>1</td>\n",
       "      <td>False</td>\n",
       "    </tr>\n",
       "    <tr>\n",
       "      <th>2</th>\n",
       "      <td>517</td>\n",
       "      <td>1</td>\n",
       "      <td>False</td>\n",
       "    </tr>\n",
       "    <tr>\n",
       "      <th>3</th>\n",
       "      <td>538</td>\n",
       "      <td>1</td>\n",
       "      <td>False</td>\n",
       "    </tr>\n",
       "    <tr>\n",
       "      <th>4</th>\n",
       "      <td>651</td>\n",
       "      <td>1</td>\n",
       "      <td>False</td>\n",
       "    </tr>\n",
       "  </tbody>\n",
       "</table>\n",
       "</div>"
      ],
      "text/plain": [
       "   userid  itemid  is_holdout\n",
       "0     346       1       False\n",
       "1     385       1       False\n",
       "2     517       1       False\n",
       "3     538       1       False\n",
       "4     651       1       False"
      ]
     },
     "execution_count": 4,
     "metadata": {},
     "output_type": "execute_result"
    }
   ],
   "source": [
    "full_data.head(5)"
   ]
  },
  {
   "cell_type": "code",
   "execution_count": 5,
   "metadata": {},
   "outputs": [],
   "source": [
    "rs = np.random.RandomState(seed)\n",
    "tmp_train, holdout = split_holdout(  # test\n",
    "    full_data,\n",
    "    sample_max_rated = True,\n",
    "    feedback = 'is_holdout',\n",
    "    random_state = rs\n",
    ")\n",
    "train, validation = split_holdout( # validation\n",
    "    tmp_train,\n",
    "    sample_max_rated = False, # feedback is implicit\n",
    "    random_state = rs\n",
    ")"
   ]
  },
  {
   "cell_type": "code",
   "execution_count": 6,
   "metadata": {},
   "outputs": [],
   "source": [
    "assert not train.is_holdout.any()\n",
    "assert not validation.is_holdout.any()\n",
    "assert holdout.is_holdout.all()"
   ]
  },
  {
   "cell_type": "markdown",
   "metadata": {},
   "source": [
    "### unseen items sampling"
   ]
  },
  {
   "cell_type": "code",
   "execution_count": 7,
   "metadata": {},
   "outputs": [
    {
     "data": {
      "text/plain": [
       "userid\n",
       "346    [2654, 2621, 1317, 2944, 1618, 1617, 3291, 143...\n",
       "385    [2183, 642, 2202, 1328, 2492, 707, 2276, 2064,...\n",
       "517    [679, 1725, 608, 2369, 519, 2346, 1732, 3298, ...\n",
       "538    [1753, 975, 2113, 3047, 1412, 2084, 1954, 2488...\n",
       "651    [2013, 2011, 735, 2658, 1758, 3098, 3147, 435,...\n",
       "dtype: object"
      ]
     },
     "execution_count": 7,
     "metadata": {},
     "output_type": "execute_result"
    }
   ],
   "source": [
    "validation_unseen = sample_unseen_interactions(\n",
    "    full_data,\n",
    "    train.itemid.unique(),\n",
    "    seed=seed)\n",
    "validation_unseen.head()"
   ]
  },
  {
   "cell_type": "code",
   "execution_count": 8,
   "metadata": {},
   "outputs": [],
   "source": [
    "assert not ( # verify train and validation are disjoint\n",
    "    train\n",
    "    .groupby('userid', sort=False)\n",
    "    .itemid\n",
    "    .apply(lambda x: x.isin(validation_unseen.loc[x.name]).any()).any()\n",
    ")"
   ]
  },
  {
   "cell_type": "markdown",
   "metadata": {},
   "source": [
    "## Data Model Specification"
   ]
  },
  {
   "cell_type": "code",
   "execution_count": 9,
   "metadata": {},
   "outputs": [],
   "source": [
    "class RandomSampleEvaluationData(\n",
    "    RandomSampleEvaluationMixin, RecommenderData\n",
    "): pass"
   ]
  },
  {
   "cell_type": "code",
   "execution_count": 10,
   "metadata": {},
   "outputs": [],
   "source": [
    "data = RandomSampleEvaluationData(\n",
    "    train, userid='userid', itemid='itemid', feedback=None # implicit feedback\n",
    ")"
   ]
  },
  {
   "cell_type": "code",
   "execution_count": 11,
   "metadata": {},
   "outputs": [
    {
     "name": "stdout",
     "output_type": "stream",
     "text": [
      "Preparing data...\n",
      "Done.\n",
      "There are 390131 events in the training and 0 events in the holdout.\n"
     ]
    }
   ],
   "source": [
    "data.prepare_training_only()"
   ]
  },
  {
   "cell_type": "markdown",
   "metadata": {},
   "source": [
    "### setting holdout and unseen interctions"
   ]
  },
  {
   "cell_type": "code",
   "execution_count": 12,
   "metadata": {},
   "outputs": [
    {
     "name": "stdout",
     "output_type": "stream",
     "text": [
      "Done. There are 7307 events in the holdout.\n"
     ]
    }
   ],
   "source": [
    "data.set_test_data(holdout=validation, holdout_size=1)"
   ]
  },
  {
   "cell_type": "code",
   "execution_count": 13,
   "metadata": {},
   "outputs": [],
   "source": [
    "data.set_unseen_interactions(validation_unseen)"
   ]
  },
  {
   "cell_type": "code",
   "execution_count": 14,
   "metadata": {},
   "outputs": [
    {
     "data": {
      "text/plain": [
       "userid\n",
       "0    [2653, 2620, 1316, 2943, 1617, 1616, 3290, 143...\n",
       "1    [2182, 641, 2201, 1327, 2491, 706, 2275, 2063,...\n",
       "2    [678, 1724, 607, 2368, 518, 2345, 1731, 3297, ...\n",
       "3    [2012, 2010, 734, 2657, 1757, 3097, 3146, 434,...\n",
       "4    [1204, 2001, 530, 1915, 716, 2103, 1319, 225, ...\n",
       "Name: itemid, dtype: object"
      ]
     },
     "execution_count": 14,
     "metadata": {},
     "output_type": "execute_result"
    }
   ],
   "source": [
    "data.unseen_interactions.head()"
   ]
  },
  {
   "cell_type": "code",
   "execution_count": 15,
   "metadata": {},
   "outputs": [],
   "source": [
    "assert data.unseen_interactions.apply(len).eq(999).all()"
   ]
  },
  {
   "cell_type": "markdown",
   "metadata": {},
   "source": [
    "## PureSVD evaluation"
   ]
  },
  {
   "cell_type": "code",
   "execution_count": 16,
   "metadata": {},
   "outputs": [],
   "source": [
    "class RandomSampleEvaluationSVD(\n",
    "    RandomSampleEvaluationSVDMixin, SVDModel\n",
    "): pass"
   ]
  },
  {
   "cell_type": "code",
   "execution_count": 17,
   "metadata": {},
   "outputs": [],
   "source": [
    "svd = RandomSampleEvaluationSVD(data)"
   ]
  },
  {
   "cell_type": "markdown",
   "metadata": {},
   "source": [
    "### grid search on validation data"
   ]
  },
  {
   "cell_type": "code",
   "execution_count": 18,
   "metadata": {},
   "outputs": [
    {
     "data": {
      "text/html": [
       "<div><span class=\"Text-label\" style=\"display:inline-block; overflow:hidden; white-space:nowrap; text-overflow:ellipsis; min-width:0; max-width:15ex; vertical-align:middle; text-align:right\"></span>\n",
       "<progress style=\"width:60ex\" max=\"20\" value=\"20\" class=\"Progress-main\"/></progress>\n",
       "<span class=\"Progress-label\"><strong>100%</strong></span>\n",
       "<span class=\"Iteration-label\">20/20</span>\n",
       "<span class=\"Time-label\">[00:49<00:02, 2.43s/it]</span></div>"
      ],
      "text/plain": [
       "\u001b[A\u001b[2K\r",
       " [████████████████████████████████████████████████████████████] 20/20 [00:49<00:02, 2.43s/it]"
      ]
     },
     "metadata": {},
     "output_type": "display_data"
    }
   ],
   "source": [
    "best_svd_rank, svd_scores = find_optimal_svd_rank(\n",
    "    svd,\n",
    "    svd_ranks,\n",
    "    target_metric,\n",
    "    metric_type = 'main',\n",
    "    return_scores = True,\n",
    "    iterator = track\n",
    ")"
   ]
  },
  {
   "cell_type": "code",
   "execution_count": 19,
   "metadata": {},
   "outputs": [
    {
     "data": {
      "image/png": "[encoded data removed]",
      "text/plain": [
       "<Figure size 432x288 with 1 Axes>"
      ]
     },
     "metadata": {
      "needs_background": "light"
     },
     "output_type": "display_data"
    }
   ],
   "source": [
    "svd_scores.plot(title=target_metric.upper());"
   ]
  },
  {
   "cell_type": "markdown",
   "metadata": {},
   "source": [
    "### evaluation on withheld data"
   ]
  },
  {
   "cell_type": "code",
   "execution_count": 20,
   "metadata": {},
   "outputs": [
    {
     "name": "stdout",
     "output_type": "stream",
     "text": [
      "Preparing data...\n",
      "Done.\n",
      "There are 397438 events in the training and 0 events in the holdout.\n"
     ]
    }
   ],
   "source": [
    "# add validation data to train\n",
    "data._data = data._data.append(validation, ignore_index=True)\n",
    "data.prepare_training_only()"
   ]
  },
  {
   "cell_type": "code",
   "execution_count": 21,
   "metadata": {},
   "outputs": [
    {
     "name": "stdout",
     "output_type": "stream",
     "text": [
      "Done. There are 7307 events in the holdout.\n"
     ]
    }
   ],
   "source": [
    "data.set_test_data(holdout=holdout, holdout_size=1)"
   ]
  },
  {
   "cell_type": "code",
   "execution_count": 22,
   "metadata": {},
   "outputs": [],
   "source": [
    "holdout_unseen = sample_unseen_interactions(\n",
    "    full_data,\n",
    "    data.index.itemid.old.values, # ensure validation is added\n",
    "    seed = holdout_seed\n",
    ")"
   ]
  },
  {
   "cell_type": "code",
   "execution_count": 24,
   "metadata": {},
   "outputs": [],
   "source": [
    "assert holdout_unseen.apply(len).eq(999).all()\n",
    "assert not ( # verify train and holdout are disjoint\n",
    "    data._data # take validation split into account\n",
    "    .groupby('userid', sort=False)\n",
    "    .itemid\n",
    "    .apply(lambda x: x.isin(holdout_unseen.loc[x.name]).any()).any()\n",
    ")"
   ]
  },
  {
   "cell_type": "code",
   "execution_count": 25,
   "metadata": {},
   "outputs": [],
   "source": [
    "data.set_unseen_interactions(holdout_unseen)\n",
    "assert data.unseen_interactions.apply(len).eq(999).all()"
   ]
  },
  {
   "cell_type": "code",
   "execution_count": 26,
   "metadata": {},
   "outputs": [
    {
     "name": "stdout",
     "output_type": "stream",
     "text": [
      "Optimal SVD rank: 25\n",
      "PureSVD model is not ready. Rebuilding.\n",
      "PureSVD training time: 0.170s\n"
     ]
    },
    {
     "data": {
      "text/plain": [
       "[Relevance(hr=0.3874367045299028),\n",
       " Ranking(arhr=0.17455565548148003, mrr=0.17455565548148005)]"
      ]
     },
     "execution_count": 26,
     "metadata": {},
     "output_type": "execute_result"
    }
   ],
   "source": [
    "print(f'Optimal SVD rank: {best_svd_rank}')\n",
    "svd.rank = best_svd_rank\n",
    "svd.evaluate(metric_type='main')"
   ]
  },
  {
   "cell_type": "code",
   "execution_count": null,
   "metadata": {},
   "outputs": [],
   "source": []
  }
 ],
 "metadata": {
  "kernelspec": {
   "display_name": "Python [conda env:recwalk]",
   "language": "python",
   "name": "conda-env-recwalk-py"
  },
  "language_info": {
   "codemirror_mode": {
    "name": "ipython",
    "version": 3
   },
   "file_extension": ".py",
   "mimetype": "text/x-python",
   "name": "python",
   "nbconvert_exporter": "python",
   "pygments_lexer": "ipython3",
   "version": "3.6.10"
  }
 },
 "nbformat": 4,
 "nbformat_minor": 4
}
