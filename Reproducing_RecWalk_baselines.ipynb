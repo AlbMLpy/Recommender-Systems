{
 "cells": [
  {
   "cell_type": "markdown",
   "metadata": {},
   "source": [
    "!pip install --no-cache-dir --upgrade git+https://github.com/Evfro/polara.git@develop#egg=polara  \n",
    "!pip install ipypb"
   ]
  },
  {
   "cell_type": "code",
   "execution_count": 1,
   "metadata": {},
   "outputs": [],
   "source": [
    "import numpy as np\n",
    "import pandas as pd\n",
    "\n",
    "from polara import get_movielens_data, RecommenderData, SVDModel\n",
    "from polara.recommender.models import RandomSampleEvaluationSVDMixin\n",
    "from polara.recommender.data import RandomSampleEvaluationMixin\n",
    "from polara.evaluation.pipelines import find_optimal_svd_rank\n",
    "\n",
    "try:\n",
    "    from ipypb import track\n",
    "except ImportError:\n",
    "    from tqdm.auto import tqdm as track"
   ]
  },
  {
   "cell_type": "markdown",
   "metadata": {},
   "source": [
    "---\n",
    "The follwoing setup is based on experiment description from the RecWalk paper:  \n",
    "_\"RecWalk: Nearly Uncoupled Random Walks for Top-N Recommendation\"_; Athanasios N. Nikolakopoulos, George Karypis; WSDM '19.  \n",
    "Where necessary, quotes from the original paper are provided.\n",
    "---"
   ]
  },
  {
   "cell_type": "code",
   "execution_count": 2,
   "metadata": {},
   "outputs": [],
   "source": [
    "# randomization control\n",
    "seed = 42\n",
    "# sampling settings\n",
    "sample_max_rated = True\n",
    "rating_threshold = 0 # for ratings [1, 2, 3, 4, 5]\n",
    "# evaluation setitings\n",
    "target_metric = 'hr'\n",
    "svd_ranks = range(5, 301, 5)"
   ]
  },
  {
   "cell_type": "markdown",
   "metadata": {},
   "source": [
    "Logged results (with kernel restarts):  \n",
    "```python\n",
    "seed = 0\n",
    "\n",
    "sample_max_rated = True, rating_threshold = 0:  \n",
    "hr=0.5351879450240106, arhr=0.2851301855400216\n",
    "\n",
    "sample_max_rated = False, rating_threshold = 0:  \n",
    "hr=0.41903973509933773, arhr=0.1985599311468517\n",
    "    \n",
    "sample_max_rated = True, rating_threshold = 4:  \n",
    "hr=0.4904722452361226, arhr=0.2521915808576952\n",
    "\n",
    "sample_max_rated = False, rating_threshold = 4:  \n",
    "hr=0.39459728206827976, arhr=0.1844694877177476\n",
    "\n",
    "\n",
    "seed = 99\n",
    "\n",
    "sample_max_rated = True, rating_threshold = 0:  \n",
    "hr=0.5309602649006623, arhr=0.27894644171134236\n",
    "\n",
    "seed = 42\n",
    "\n",
    "sample_max_rated = True, rating_threshold = 0:  \n",
    "hr=0.5365126676602087, arhr=0.2830264655401268\n",
    "```"
   ]
  },
  {
   "cell_type": "markdown",
   "metadata": {},
   "source": [
    "## Data preparation"
   ]
  },
  {
   "cell_type": "code",
   "execution_count": 3,
   "metadata": {},
   "outputs": [],
   "source": [
    "ml_data = (\n",
    "    get_movielens_data('D:/datasets/recsys/movielens/ml-1m.zip')\n",
    "    .query('rating >= @rating_threshold')\n",
    ")"
   ]
  },
  {
   "cell_type": "markdown",
   "metadata": {},
   "source": [
    "## train-test split"
   ]
  },
  {
   "cell_type": "markdown",
   "metadata": {},
   "source": [
    "Quote:  \n",
    "`...for each user we randomly select one liked item...and we create a testset T...  \n",
    "...the per-user ‘liked’ item is randomly sampled among the highest rated items of each particular user...`"
   ]
  },
  {
   "cell_type": "markdown",
   "metadata": {},
   "source": [
    "Quote:  \n",
    "`For model selection we repeat the same procedure on the training data and we create a validation set V; and for each method considered we explore the hyperparameter space to find the modelthat yields the best performance in recommending the items in V,and then we evaluate its out-of-sample performance based on the held-out items in T`"
   ]
  },
  {
   "cell_type": "code",
   "execution_count": 4,
   "metadata": {},
   "outputs": [],
   "source": [
    "def split_holdout(data, sample_max_rated=True, seed=None):\n",
    "    'Randomized sampling of a highly rated item per every user in data'\n",
    "    idx_grouper = (\n",
    "        data\n",
    "        .sample(frac=1, random_state=seed) # randomly permute data\n",
    "        .groupby('userid', as_index=False, sort=False)\n",
    "    )\n",
    "    if sample_max_rated: # take single item with the highest score\n",
    "        idx = idx_grouper.rating.idxmax()\n",
    "    else: # data is already permuted - simply take the 1st element\n",
    "        idx = idx_grouper.rating.head(1).index # sample random element\n",
    "    \n",
    "    observed = data.drop(idx.values)\n",
    "    holdout = data.loc[idx.values]\n",
    "    return observed, holdout"
   ]
  },
  {
   "cell_type": "code",
   "execution_count": 5,
   "metadata": {},
   "outputs": [],
   "source": [
    "train_, holdout = split_holdout(ml_data, sample_max_rated=sample_max_rated, seed=seed) # testset\n",
    "train, validation = split_holdout(train_, sample_max_rated=sample_max_rated, seed=seed) # validation"
   ]
  },
  {
   "cell_type": "markdown",
   "metadata": {},
   "source": [
    "Quote:  \n",
    "`During training of all competing methods we consider only binary feedback`"
   ]
  },
  {
   "cell_type": "code",
   "execution_count": 6,
   "metadata": {},
   "outputs": [],
   "source": [
    "train['rating'] = 1 # make data for training implicit"
   ]
  },
  {
   "cell_type": "markdown",
   "metadata": {},
   "source": [
    "### unseen items sampling"
   ]
  },
  {
   "cell_type": "markdown",
   "metadata": {},
   "source": [
    "Quote:  \n",
    "`...we consider for each user her corresponding test item along side 999 randomly sampled unseen items and we rank the 1000 item lists...`"
   ]
  },
  {
   "cell_type": "code",
   "execution_count": 7,
   "metadata": {},
   "outputs": [],
   "source": [
    "def sample_unseen_items(user_group, item_pool, n, random_state):\n",
    "    'Helper function to run on pandas dataframe grouper'\n",
    "    seen_items = user_group.movieid.values\n",
    "    candidates = np.setdiff1d(item_pool, seen_items, assume_unique=True)\n",
    "    return random_state.choice(candidates, n, replace=False)\n",
    "\n",
    "def sample_unseen_interactions(data, item_pool, n_random=999, seed=None):\n",
    "    'Randomized sampling of unseen items per every user in data'\n",
    "    random_state = np.random if seed is None else np.random.RandomState(seed)\n",
    "    return (\n",
    "        data\n",
    "        .groupby('userid', sort=False)\n",
    "        .apply(sample_unseen_items, item_pool, n_random, random_state)\n",
    "    )"
   ]
  },
  {
   "cell_type": "code",
   "execution_count": 8,
   "metadata": {},
   "outputs": [],
   "source": [
    "all_train_items = train.movieid.unique()"
   ]
  },
  {
   "cell_type": "code",
   "execution_count": 9,
   "metadata": {},
   "outputs": [],
   "source": [
    "unseen_validation = sample_unseen_interactions(ml_data.query('userid in @validation.userid'), all_train_items, seed=seed)\n",
    "unseen_holdout = sample_unseen_interactions(ml_data.query('userid in @holdout.userid'), all_train_items, seed=seed)\n",
    "\n",
    "assert unseen_validation.apply(len).eq(999).all()\n",
    "assert  not (train.query('userid==1').movieid.isin(unseen_validation.loc[1]).any())\n",
    "assert unseen_holdout.apply(len).eq(999).all()\n",
    "assert  not (train.query('userid==1').movieid.isin(unseen_holdout.loc[1]).any())"
   ]
  },
  {
   "cell_type": "markdown",
   "metadata": {},
   "source": [
    "## Data Model Specification"
   ]
  },
  {
   "cell_type": "code",
   "execution_count": 10,
   "metadata": {},
   "outputs": [],
   "source": [
    "class RandomSampleEvaluationData(\n",
    "    RandomSampleEvaluationMixin, RecommenderData\n",
    "): pass"
   ]
  },
  {
   "cell_type": "code",
   "execution_count": 11,
   "metadata": {},
   "outputs": [
    {
     "name": "stdout",
     "output_type": "stream",
     "text": [
      "RandomSampleEvaluationData with Fields(userid='userid', itemid='movieid', feedback='rating')\n"
     ]
    }
   ],
   "source": [
    "data = RandomSampleEvaluationData(train, *train.columns)\n",
    "print(data)"
   ]
  },
  {
   "cell_type": "code",
   "execution_count": 12,
   "metadata": {},
   "outputs": [
    {
     "name": "stdout",
     "output_type": "stream",
     "text": [
      "Preparing data...\n",
      "Done.\n",
      "There are 988129 events in the training and 0 events in the holdout.\n"
     ]
    }
   ],
   "source": [
    "data.prepare_training_only()"
   ]
  },
  {
   "cell_type": "markdown",
   "metadata": {},
   "source": [
    "### setting holdout and unseen interctions"
   ]
  },
  {
   "cell_type": "code",
   "execution_count": 13,
   "metadata": {},
   "outputs": [
    {
     "name": "stdout",
     "output_type": "stream",
     "text": [
      "2 unique movieid entities within 2 holdout interactions were filtered. Reason: not in the training data.\n",
      "Done. There are 6038 events in the holdout.\n"
     ]
    }
   ],
   "source": [
    "data.set_test_data(holdout=validation, holdout_size=1)"
   ]
  },
  {
   "cell_type": "code",
   "execution_count": 14,
   "metadata": {},
   "outputs": [],
   "source": [
    "data.set_unseen_interactions(unseen_validation)"
   ]
  },
  {
   "cell_type": "code",
   "execution_count": 15,
   "metadata": {},
   "outputs": [
    {
     "data": {
      "text/plain": [
       "userid\n",
       "0    [2846, 1801, 1500, 333, 3219, 2524, 1436, 2426...\n",
       "1    [1272, 2529, 968, 3085, 2822, 604, 648, 1074, ...\n",
       "2    [2383, 1755, 1085, 2908, 1323, 3464, 3020, 245...\n",
       "3    [1608, 1686, 3689, 2394, 1580, 3657, 80, 1641,...\n",
       "4    [2634, 1450, 635, 651, 2592, 619, 2976, 3587, ...\n",
       "Name: movieid, dtype: object"
      ]
     },
     "execution_count": 15,
     "metadata": {},
     "output_type": "execute_result"
    }
   ],
   "source": [
    "data.unseen_interactions.head()"
   ]
  },
  {
   "cell_type": "markdown",
   "metadata": {},
   "source": [
    "## Recommender Model Specification"
   ]
  },
  {
   "cell_type": "code",
   "execution_count": 16,
   "metadata": {},
   "outputs": [],
   "source": [
    "class RandomSampleEvaluationSVD(\n",
    "    RandomSampleEvaluationSVDMixin, SVDModel\n",
    "): pass"
   ]
  },
  {
   "cell_type": "code",
   "execution_count": 17,
   "metadata": {},
   "outputs": [],
   "source": [
    "svd = RandomSampleEvaluationSVD(data)"
   ]
  },
  {
   "cell_type": "code",
   "execution_count": 18,
   "metadata": {},
   "outputs": [
    {
     "name": "stdout",
     "output_type": "stream",
     "text": [
      "PureSVD training time: 0.267s\n"
     ]
    }
   ],
   "source": [
    "svd.build()"
   ]
  },
  {
   "cell_type": "code",
   "execution_count": 19,
   "metadata": {},
   "outputs": [
    {
     "data": {
      "text/plain": [
       "[Relevance(hr=0.44733355415700565),\n",
       " Ranking(arhr=0.2363805685683791, mrr=0.2363805685683791)]"
      ]
     },
     "execution_count": 19,
     "metadata": {},
     "output_type": "execute_result"
    }
   ],
   "source": [
    "svd.evaluate(metric_type='main')"
   ]
  },
  {
   "cell_type": "markdown",
   "metadata": {},
   "source": [
    "### grid search on validation data"
   ]
  },
  {
   "cell_type": "code",
   "execution_count": 20,
   "metadata": {},
   "outputs": [
    {
     "data": {
      "text/html": [
       "<div><span class=\"Text-label\" style=\"display:inline-block; overflow:hidden; white-space:nowrap; text-overflow:ellipsis; min-width:0; max-width:15ex; vertical-align:middle; text-align:right\"></span>\n",
       "<progress style=\"width:60ex\" max=\"60\" value=\"60\" class=\"Progress-main\"/></progress>\n",
       "<span class=\"Progress-label\"><strong>100%</strong></span>\n",
       "<span class=\"Iteration-label\">60/60</span>\n",
       "<span class=\"Time-label\">[03:46<00:03, 3.76s/it]</span></div>"
      ],
      "text/plain": [
       "\u001b[A\u001b[2K\r",
       " [████████████████████████████████████████████████████████████] 60/60 [03:46<00:03, 3.76s/it]"
      ]
     },
     "metadata": {},
     "output_type": "display_data"
    }
   ],
   "source": [
    "best_svd_rank, svd_scores = find_optimal_svd_rank(\n",
    "    svd,\n",
    "    svd_ranks,\n",
    "    target_metric,\n",
    "    metric_type='main',\n",
    "    return_scores=True,\n",
    "    iterator=track\n",
    ")"
   ]
  },
  {
   "cell_type": "code",
   "execution_count": 21,
   "metadata": {},
   "outputs": [
    {
     "data": {
      "text/plain": [
       "<matplotlib.axes._subplots.AxesSubplot at 0x1e32fbb3cf8>"
      ]
     },
     "execution_count": 21,
     "metadata": {},
     "output_type": "execute_result"
    },
    {
     "data": {
      "image/png": "[encoded data removed]",
      "text/plain": [
       "<Figure size 432x288 with 1 Axes>"
      ]
     },
     "metadata": {
      "needs_background": "light"
     },
     "output_type": "display_data"
    }
   ],
   "source": [
    "svd_scores.plot()"
   ]
  },
  {
   "cell_type": "markdown",
   "metadata": {},
   "source": [
    "### evaluation on withheld data"
   ]
  },
  {
   "cell_type": "code",
   "execution_count": 22,
   "metadata": {},
   "outputs": [
    {
     "name": "stdout",
     "output_type": "stream",
     "text": [
      "1 unique movieid entities within 1 holdout interactions were filtered. Reason: not in the training data.\n",
      "Done. There are 6039 events in the holdout.\n"
     ]
    }
   ],
   "source": [
    "data.set_test_data(holdout=holdout, holdout_size=1)"
   ]
  },
  {
   "cell_type": "code",
   "execution_count": 23,
   "metadata": {},
   "outputs": [],
   "source": [
    "data.set_unseen_interactions(unseen_holdout)"
   ]
  },
  {
   "cell_type": "code",
   "execution_count": 24,
   "metadata": {},
   "outputs": [
    {
     "data": {
      "text/plain": [
       "[Relevance(hr=0.5365126676602087),\n",
       " Ranking(arhr=0.2830264655401268, mrr=0.2830264655401267)]"
      ]
     },
     "execution_count": 24,
     "metadata": {},
     "output_type": "execute_result"
    }
   ],
   "source": [
    "svd.rank = best_svd_rank\n",
    "svd.evaluate(metric_type='main')"
   ]
  }
 ],
 "metadata": {
  "kernelspec": {
   "display_name": "Python [conda env:py3_polara]",
   "language": "python",
   "name": "conda-env-py3_polara-py"
  },
  "language_info": {
   "codemirror_mode": {
    "name": "ipython",
    "version": 3
   },
   "file_extension": ".py",
   "mimetype": "text/x-python",
   "name": "python",
   "nbconvert_exporter": "python",
   "pygments_lexer": "ipython3",
   "version": "3.6.9"
  }
 },
 "nbformat": 4,
 "nbformat_minor": 4
}
